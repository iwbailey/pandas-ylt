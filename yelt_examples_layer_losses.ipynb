{
 "cells": [
  {
   "cell_type": "markdown",
   "id": "precious-dealing",
   "metadata": {},
   "source": [
    "pandas-ylt\n",
    "==========\n",
    "\n",
    "Python modules for working in pandas with various loss data tables used for CAT modelling\n"
   ]
  },
  {
   "cell_type": "markdown",
   "id": "ea25deed",
   "metadata": {},
   "source": [
    "### Read the example YLT"
   ]
  },
  {
   "metadata": {
    "ExecuteTime": {
     "end_time": "2025-08-15T23:34:48.810906Z",
     "start_time": "2025-08-15T23:34:47.653982Z"
    }
   },
   "cell_type": "code",
   "source": [
    "import pandas as pd\n",
    "import matplotlib.pyplot as plt\n",
    "\n",
    "from pandas_ylt.layer import Layer\n",
    "from pandas_ylt import YearLossTable, YearEventLossTable\n",
    "\n",
    "pd.api.extensions.register_dataframe_accessor(\"yel\")(YearEventLossTable)\n",
    "pd.api.extensions.register_dataframe_accessor(\"yl\")(YearLossTable)\n",
    "\n",
    "yelt = pd.read_csv(\"tests/_data/example_pareto_poisson_yelt.csv\",\n",
    "                   index_col=['Year', 'EventID', 'DayOfYear'])['Loss']\n",
    "yelt.attrs['n_yrs'] = 1e5\n",
    "\n",
    "display(yelt.yel.to_rp_summaries([1000, 200, 100, 10], is_ef=False).unstack(\n",
    "    'Metric').style.format(\"{:,.0f}\"))\n",
    "display(yelt.yel.to_summary_stats_series().to_frame().style.format(\"{:,.0f}\"))"
   ],
   "id": "39f63ccc814024cb",
   "outputs": [
    {
     "data": {
      "text/plain": [
       "<pandas.io.formats.style.Styler at 0x7c6643cba6b0>"
      ],
      "text/html": [
       "<style type=\"text/css\">\n",
       "</style>\n",
       "<table id=\"T_d1a4b\">\n",
       "  <thead>\n",
       "    <tr>\n",
       "      <th class=\"index_name level0\" >Metric</th>\n",
       "      <th id=\"T_d1a4b_level0_col0\" class=\"col_heading level0 col0\" >AEP</th>\n",
       "      <th id=\"T_d1a4b_level0_col1\" class=\"col_heading level0 col1\" >OEP</th>\n",
       "    </tr>\n",
       "    <tr>\n",
       "      <th class=\"index_name level0\" >ReturnPeriod</th>\n",
       "      <th class=\"blank col0\" >&nbsp;</th>\n",
       "      <th class=\"blank col1\" >&nbsp;</th>\n",
       "    </tr>\n",
       "  </thead>\n",
       "  <tbody>\n",
       "    <tr>\n",
       "      <th id=\"T_d1a4b_level0_row0\" class=\"row_heading level0 row0\" >1000</th>\n",
       "      <td id=\"T_d1a4b_row0_col0\" class=\"data row0 col0\" >494,221</td>\n",
       "      <td id=\"T_d1a4b_row0_col1\" class=\"data row0 col1\" >494,221</td>\n",
       "    </tr>\n",
       "    <tr>\n",
       "      <th id=\"T_d1a4b_level0_row1\" class=\"row_heading level0 row1\" >200</th>\n",
       "      <td id=\"T_d1a4b_row1_col0\" class=\"data row1 col0\" >104,018</td>\n",
       "      <td id=\"T_d1a4b_row1_col1\" class=\"data row1 col1\" >101,450</td>\n",
       "    </tr>\n",
       "    <tr>\n",
       "      <th id=\"T_d1a4b_level0_row2\" class=\"row_heading level0 row2\" >100</th>\n",
       "      <td id=\"T_d1a4b_row2_col0\" class=\"data row2 col0\" >51,611</td>\n",
       "      <td id=\"T_d1a4b_row2_col1\" class=\"data row2 col1\" >49,340</td>\n",
       "    </tr>\n",
       "    <tr>\n",
       "      <th id=\"T_d1a4b_level0_row3\" class=\"row_heading level0 row3\" >10</th>\n",
       "      <td id=\"T_d1a4b_row3_col0\" class=\"data row3 col0\" >5,539</td>\n",
       "      <td id=\"T_d1a4b_row3_col1\" class=\"data row3 col1\" >4,708</td>\n",
       "    </tr>\n",
       "  </tbody>\n",
       "</table>\n"
      ]
     },
     "metadata": {},
     "output_type": "display_data"
    },
    {
     "data": {
      "text/plain": [
       "<pandas.io.formats.style.Styler at 0x7c6643cba7a0>"
      ],
      "text/html": [
       "<style type=\"text/css\">\n",
       "</style>\n",
       "<table id=\"T_11dbe\">\n",
       "  <thead>\n",
       "    <tr>\n",
       "      <th class=\"blank level0\" >&nbsp;</th>\n",
       "      <th id=\"T_11dbe_level0_col0\" class=\"col_heading level0 col0\" >Loss</th>\n",
       "    </tr>\n",
       "    <tr>\n",
       "      <th class=\"index_name level0\" >Metric</th>\n",
       "      <th class=\"blank col0\" >&nbsp;</th>\n",
       "    </tr>\n",
       "  </thead>\n",
       "  <tbody>\n",
       "    <tr>\n",
       "      <th id=\"T_11dbe_level0_row0\" class=\"row_heading level0 row0\" >AAL</th>\n",
       "      <td id=\"T_11dbe_row0_col0\" class=\"data row0 col0\" >5,564</td>\n",
       "    </tr>\n",
       "    <tr>\n",
       "      <th id=\"T_11dbe_level0_row1\" class=\"row_heading level0 row1\" >STD</th>\n",
       "      <td id=\"T_11dbe_row1_col0\" class=\"data row1 col0\" >158,881</td>\n",
       "    </tr>\n",
       "  </tbody>\n",
       "</table>\n"
      ]
     },
     "metadata": {},
     "output_type": "display_data"
    }
   ],
   "execution_count": 1
  },
  {
   "cell_type": "markdown",
   "id": "a3c09fe0",
   "metadata": {},
   "source": [
    "### Applying an example reinsurance tower to the losses"
   ]
  },
  {
   "cell_type": "code",
   "id": "b97cd028",
   "metadata": {
    "ExecuteTime": {
     "end_time": "2025-08-15T23:34:48.860481Z",
     "start_time": "2025-08-15T23:34:48.853350Z"
    }
   },
   "source": [
    "layers = {\n",
    "    # Layers at 20,000 increments with 1 reinstatement\n",
    "    \"20 xs 20 (1@100)\": Layer(\n",
    "            **{\"limit\": 20000, \"xs\": 20000, \"agg_limit\": 40000.0, \"reinst_at\": 1.0,\n",
    "               \"premium\": 2000}\n",
    "    ),\n",
    "    \"20 xs 40 (1@100)\": Layer(\n",
    "            **{\"limit\": 20000, \"xs\": 40000, \"agg_limit\": 40000.0, \"reinst_at\": 1.0,\n",
    "               \"premium\": 1000}\n",
    "    ),\n",
    "    \"20 xs 60 (1@0)\": Layer(\n",
    "            **{\"limit\": 20000, \"xs\": 60000, \"agg_limit\": 40000.0, \"reinst_at\": 0.0,\n",
    "               'premium': 400}\n",
    "    ),\n",
    "    \"20 xs 80 (Single Shot)\": Layer(\n",
    "            **{\"limit\": 20000, \"xs\": 80000, \"agg_limit\": 20000.0, \"reinst_at\": 0.0,\n",
    "               \"premium\": 400}\n",
    "    ),\n",
    "}"
   ],
   "outputs": [],
   "execution_count": 2
  },
  {
   "cell_type": "markdown",
   "id": "e0fdd5b6",
   "metadata": {},
   "source": "### Get the summary stats for each layer"
  },
  {
   "metadata": {
    "ExecuteTime": {
     "end_time": "2025-08-15T23:34:49.062630Z",
     "start_time": "2025-08-15T23:34:48.906552Z"
    }
   },
   "cell_type": "code",
   "source": [
    "# Get a separate YLT for each layer\n",
    "lyr_ylts = pd.concat({lyr: layers[lyr].ceded_ylt(yelt) for lyr in layers},\n",
    "                     names=['LayerName'])\n",
    "lyr_reinst = pd.concat({lyr: layers[lyr].ceded_ylt(yelt, only_reinstated=True) for lyr in layers},\n",
    "                       names=['LayerName'])\n",
    "\n",
    "# Calculate the layer stats from the YLTs\n",
    "summary_stats = {k:\n",
    "                     {'AAL': lyr_ylts.loc[k].yl.aal,\n",
    "                      'STD': lyr_ylts.loc[k].yl.std(),\n",
    "                      'AvgReinstLimit': lyr_reinst.loc[k].yl.aal,\n",
    "                      'AttachRP': 1 / lyr_ylts.loc[k].yl.prob_of_a_loss,\n",
    "                      'OccLimitRP': 1 / lyr_ylts.loc[k].yl.loss_exprob(layers[k].limit),\n",
    "                      'ExhaustRP': 1 / lyr_ylts.loc[k].yl.loss_exprob(layers[k].agg_limit),\n",
    "                      'Premium+RiP': layers[k].premium + layers[k].reinst_rate * lyr_reinst.loc[k].yl.aal,\n",
    "                      }\n",
    "                 for k in layers}\n",
    "\n",
    "# Display the results\n",
    "pd.DataFrame(summary_stats).T.style.format({\"AAL\": \"{:,.0f}\",\n",
    "                                            'STD': '{:,.0f}',\n",
    "                                            'AvgReinstLimit': '{:.2f}',\n",
    "                                            'AttachRP': \"{:,.0f}\",\n",
    "                                            'OccLimitRP': \"{:,.0f}\",\n",
    "                                            'ExhaustRP': \"{:,.0f}\",\n",
    "                                            })"
   ],
   "id": "50a4f7885c2b8a0a",
   "outputs": [
    {
     "data": {
      "text/plain": [
       "<pandas.io.formats.style.Styler at 0x7c6643cba7a0>"
      ],
      "text/html": [
       "<style type=\"text/css\">\n",
       "</style>\n",
       "<table id=\"T_78f5f\">\n",
       "  <thead>\n",
       "    <tr>\n",
       "      <th class=\"blank level0\" >&nbsp;</th>\n",
       "      <th id=\"T_78f5f_level0_col0\" class=\"col_heading level0 col0\" >AAL</th>\n",
       "      <th id=\"T_78f5f_level0_col1\" class=\"col_heading level0 col1\" >STD</th>\n",
       "      <th id=\"T_78f5f_level0_col2\" class=\"col_heading level0 col2\" >AvgReinstLimit</th>\n",
       "      <th id=\"T_78f5f_level0_col3\" class=\"col_heading level0 col3\" >AttachRP</th>\n",
       "      <th id=\"T_78f5f_level0_col4\" class=\"col_heading level0 col4\" >OccLimitRP</th>\n",
       "      <th id=\"T_78f5f_level0_col5\" class=\"col_heading level0 col5\" >ExhaustRP</th>\n",
       "      <th id=\"T_78f5f_level0_col6\" class=\"col_heading level0 col6\" >Premium+RiP</th>\n",
       "    </tr>\n",
       "  </thead>\n",
       "  <tbody>\n",
       "    <tr>\n",
       "      <th id=\"T_78f5f_level0_row0\" class=\"row_heading level0 row0\" >20 xs 20 (1@100)</th>\n",
       "      <td id=\"T_78f5f_row0_col0\" class=\"data row0 col0\" >336</td>\n",
       "      <td id=\"T_78f5f_row0_col1\" class=\"data row0 col1\" >2,439</td>\n",
       "      <td id=\"T_78f5f_row0_col2\" class=\"data row0 col2\" >334.05</td>\n",
       "      <td id=\"T_78f5f_row0_col3\" class=\"data row0 col3\" >41</td>\n",
       "      <td id=\"T_78f5f_row0_col4\" class=\"data row0 col4\" >82</td>\n",
       "      <td id=\"T_78f5f_row0_col5\" class=\"data row0 col5\" >16,667</td>\n",
       "      <td id=\"T_78f5f_row0_col6\" class=\"data row0 col6\" >2033.404714</td>\n",
       "    </tr>\n",
       "    <tr>\n",
       "      <th id=\"T_78f5f_level0_row1\" class=\"row_heading level0 row1\" >20 xs 40 (1@100)</th>\n",
       "      <td id=\"T_78f5f_row1_col0\" class=\"data row1 col0\" >201</td>\n",
       "      <td id=\"T_78f5f_row1_col1\" class=\"data row1 col1\" >1,934</td>\n",
       "      <td id=\"T_78f5f_row1_col2\" class=\"data row1 col2\" >199.88</td>\n",
       "      <td id=\"T_78f5f_row1_col3\" class=\"data row1 col3\" >82</td>\n",
       "      <td id=\"T_78f5f_row1_col4\" class=\"data row1 col4\" >121</td>\n",
       "      <td id=\"T_78f5f_row1_col5\" class=\"data row1 col5\" >50,000</td>\n",
       "      <td id=\"T_78f5f_row1_col6\" class=\"data row1 col6\" >1009.993836</td>\n",
       "    </tr>\n",
       "    <tr>\n",
       "      <th id=\"T_78f5f_level0_row2\" class=\"row_heading level0 row2\" >20 xs 60 (1@0)</th>\n",
       "      <td id=\"T_78f5f_row2_col0\" class=\"data row2 col0\" >144</td>\n",
       "      <td id=\"T_78f5f_row2_col1\" class=\"data row2 col1\" >1,656</td>\n",
       "      <td id=\"T_78f5f_row2_col2\" class=\"data row2 col2\" >144.01</td>\n",
       "      <td id=\"T_78f5f_row2_col3\" class=\"data row2 col3\" >121</td>\n",
       "      <td id=\"T_78f5f_row2_col4\" class=\"data row2 col4\" >161</td>\n",
       "      <td id=\"T_78f5f_row2_col5\" class=\"data row2 col5\" >100,000</td>\n",
       "      <td id=\"T_78f5f_row2_col6\" class=\"data row2 col6\" >400.000000</td>\n",
       "    </tr>\n",
       "    <tr>\n",
       "      <th id=\"T_78f5f_level0_row3\" class=\"row_heading level0 row3\" >20 xs 80 (Single Shot)</th>\n",
       "      <td id=\"T_78f5f_row3_col0\" class=\"data row3 col0\" >114</td>\n",
       "      <td id=\"T_78f5f_row3_col1\" class=\"data row3 col1\" >1,481</td>\n",
       "      <td id=\"T_78f5f_row3_col2\" class=\"data row3 col2\" >0.00</td>\n",
       "      <td id=\"T_78f5f_row3_col3\" class=\"data row3 col3\" >161</td>\n",
       "      <td id=\"T_78f5f_row3_col4\" class=\"data row3 col4\" >196</td>\n",
       "      <td id=\"T_78f5f_row3_col5\" class=\"data row3 col5\" >196</td>\n",
       "      <td id=\"T_78f5f_row3_col6\" class=\"data row3 col6\" >400.000000</td>\n",
       "    </tr>\n",
       "  </tbody>\n",
       "</table>\n"
      ]
     },
     "execution_count": 3,
     "metadata": {},
     "output_type": "execute_result"
    }
   ],
   "execution_count": 3
  },
  {
   "metadata": {
    "ExecuteTime": {
     "end_time": "2025-08-15T23:34:49.501792Z",
     "start_time": "2025-08-15T23:34:49.076595Z"
    }
   },
   "cell_type": "code",
   "source": [
    "# Get a separate YELT for each layer\n",
    "lyr_yelts = pd.concat({lyr: layers[lyr].ceded_yelt(yelt) for lyr in layers}, names=['LayerName'])\n",
    "lyr_event_reinst = pd.concat({lyr: layers[lyr].ceded_yelt(yelt, only_reinstated=True) for lyr in layers}, names=['LayerName'])\n",
    "# lyr_yelts\n",
    "\n",
    "# Calculate the layer stats from the YLTs\n",
    "summary_stats = {k:\n",
    "                     {'AAL': lyr_yelts.loc[k].yel.aal,\n",
    "                      'STD': lyr_yelts.loc[k].yel.to_ylt().yl.std(),\n",
    "                      'AvgReinstLimit': lyr_event_reinst.loc[k].yel.aal,\n",
    "                      'AttachRP': 1 / lyr_yelts.loc[k].yel.to_ylt().yl.prob_of_a_loss,\n",
    "                      'OccLimitRP': 1 / lyr_yelts.loc[k].yel.to_ylt().yl.loss_exprob(layers[k].limit),\n",
    "                      'OccLimitRP (Single Event)': 1 / lyr_yelts.loc[k].yel.to_ylt(is_occurrence=True).yl.loss_exprob(layers[k].limit),\n",
    "                      'ExhaustRP': 1 / lyr_yelts.loc[k].yel.to_ylt().yl.loss_exprob(layers[k].agg_limit),\n",
    "                      }\n",
    "                 for k in layers}\n",
    "\n",
    "# Display the results to check the same as before\n",
    "pd.DataFrame(summary_stats).T.style.format({\"AAL\": \"{:,.0f}\", 'STD': '{:,.0f}',\n",
    "                                            'ExpReinst': '{:.1f}',\n",
    "                                            'AttachRP': \"{:,.0f}\",\n",
    "                                            'OccLimitRP': \"{:,.2f}\",\n",
    "                                            'OccLimitRP (Single Event)': \"{:,.2f}\",\n",
    "                                            'ExhaustRP': \"{:,.0f}\",\n",
    "                                            })"
   ],
   "id": "4d6b4d646637ad60",
   "outputs": [
    {
     "data": {
      "text/plain": [
       "<pandas.io.formats.style.Styler at 0x7c668431b2e0>"
      ],
      "text/html": [
       "<style type=\"text/css\">\n",
       "</style>\n",
       "<table id=\"T_0fefd\">\n",
       "  <thead>\n",
       "    <tr>\n",
       "      <th class=\"blank level0\" >&nbsp;</th>\n",
       "      <th id=\"T_0fefd_level0_col0\" class=\"col_heading level0 col0\" >AAL</th>\n",
       "      <th id=\"T_0fefd_level0_col1\" class=\"col_heading level0 col1\" >STD</th>\n",
       "      <th id=\"T_0fefd_level0_col2\" class=\"col_heading level0 col2\" >AvgReinstLimit</th>\n",
       "      <th id=\"T_0fefd_level0_col3\" class=\"col_heading level0 col3\" >AttachRP</th>\n",
       "      <th id=\"T_0fefd_level0_col4\" class=\"col_heading level0 col4\" >OccLimitRP</th>\n",
       "      <th id=\"T_0fefd_level0_col5\" class=\"col_heading level0 col5\" >OccLimitRP (Single Event)</th>\n",
       "      <th id=\"T_0fefd_level0_col6\" class=\"col_heading level0 col6\" >ExhaustRP</th>\n",
       "    </tr>\n",
       "  </thead>\n",
       "  <tbody>\n",
       "    <tr>\n",
       "      <th id=\"T_0fefd_level0_row0\" class=\"row_heading level0 row0\" >20 xs 20 (1@100)</th>\n",
       "      <td id=\"T_0fefd_row0_col0\" class=\"data row0 col0\" >336</td>\n",
       "      <td id=\"T_0fefd_row0_col1\" class=\"data row0 col1\" >2,439</td>\n",
       "      <td id=\"T_0fefd_row0_col2\" class=\"data row0 col2\" >334.047141</td>\n",
       "      <td id=\"T_0fefd_row0_col3\" class=\"data row0 col3\" >41</td>\n",
       "      <td id=\"T_0fefd_row0_col4\" class=\"data row0 col4\" >81.70</td>\n",
       "      <td id=\"T_0fefd_row0_col5\" class=\"data row0 col5\" >81.83</td>\n",
       "      <td id=\"T_0fefd_row0_col6\" class=\"data row0 col6\" >16,667</td>\n",
       "    </tr>\n",
       "    <tr>\n",
       "      <th id=\"T_0fefd_level0_row1\" class=\"row_heading level0 row1\" >20 xs 40 (1@100)</th>\n",
       "      <td id=\"T_0fefd_row1_col0\" class=\"data row1 col0\" >201</td>\n",
       "      <td id=\"T_0fefd_row1_col1\" class=\"data row1 col1\" >1,934</td>\n",
       "      <td id=\"T_0fefd_row1_col2\" class=\"data row1 col2\" >199.876713</td>\n",
       "      <td id=\"T_0fefd_row1_col3\" class=\"data row1 col3\" >82</td>\n",
       "      <td id=\"T_0fefd_row1_col4\" class=\"data row1 col4\" >120.92</td>\n",
       "      <td id=\"T_0fefd_row1_col5\" class=\"data row1 col5\" >120.92</td>\n",
       "      <td id=\"T_0fefd_row1_col6\" class=\"data row1 col6\" >50,000</td>\n",
       "    </tr>\n",
       "    <tr>\n",
       "      <th id=\"T_0fefd_level0_row2\" class=\"row_heading level0 row2\" >20 xs 60 (1@0)</th>\n",
       "      <td id=\"T_0fefd_row2_col0\" class=\"data row2 col0\" >144</td>\n",
       "      <td id=\"T_0fefd_row2_col1\" class=\"data row2 col1\" >1,656</td>\n",
       "      <td id=\"T_0fefd_row2_col2\" class=\"data row2 col2\" >144.014744</td>\n",
       "      <td id=\"T_0fefd_row2_col3\" class=\"data row2 col3\" >121</td>\n",
       "      <td id=\"T_0fefd_row2_col4\" class=\"data row2 col4\" >160.51</td>\n",
       "      <td id=\"T_0fefd_row2_col5\" class=\"data row2 col5\" >160.51</td>\n",
       "      <td id=\"T_0fefd_row2_col6\" class=\"data row2 col6\" >100,000</td>\n",
       "    </tr>\n",
       "    <tr>\n",
       "      <th id=\"T_0fefd_level0_row3\" class=\"row_heading level0 row3\" >20 xs 80 (Single Shot)</th>\n",
       "      <td id=\"T_0fefd_row3_col0\" class=\"data row3 col0\" >114</td>\n",
       "      <td id=\"T_0fefd_row3_col1\" class=\"data row3 col1\" >1,481</td>\n",
       "      <td id=\"T_0fefd_row3_col2\" class=\"data row3 col2\" >0.000000</td>\n",
       "      <td id=\"T_0fefd_row3_col3\" class=\"data row3 col3\" >161</td>\n",
       "      <td id=\"T_0fefd_row3_col4\" class=\"data row3 col4\" >195.69</td>\n",
       "      <td id=\"T_0fefd_row3_col5\" class=\"data row3 col5\" >196.08</td>\n",
       "      <td id=\"T_0fefd_row3_col6\" class=\"data row3 col6\" >196</td>\n",
       "    </tr>\n",
       "  </tbody>\n",
       "</table>\n"
      ]
     },
     "execution_count": 4,
     "metadata": {},
     "output_type": "execute_result"
    }
   ],
   "execution_count": 4
  },
  {
   "cell_type": "markdown",
   "id": "f0cbac52",
   "metadata": {},
   "source": [
    "Calculate the YLTs net of reinstatement costs. The AAL to the layer is reduced because reinst premiums offset the loss."
   ]
  },
  {
   "cell_type": "markdown",
   "id": "98b98652",
   "metadata": {},
   "source": [
    "Get the net and final net EP curve"
   ]
  },
  {
   "metadata": {
    "ExecuteTime": {
     "end_time": "2025-08-15T23:34:49.512194Z",
     "start_time": "2025-08-15T23:34:49.509531Z"
    }
   },
   "cell_type": "code",
   "source": "",
   "id": "9aad84acad87658a",
   "outputs": [],
   "execution_count": null
  },
  {
   "cell_type": "code",
   "id": "cb96d6a6",
   "metadata": {
    "ExecuteTime": {
     "end_time": "2025-08-15T23:34:49.777553Z",
     "start_time": "2025-08-15T23:34:49.556659Z"
    }
   },
   "source": [
    "rip_yelt = lyr_event_reinst.multiply(\n",
    "        pd.Series({k: layers[k].reinst_rate for k in layers}).rename_axis('LayerName')).rename('Loss')\n",
    "\n",
    "retained_yelt = yelt.subtract(\n",
    "    lyr_yelts.groupby(yelt.index.names).sum(), fill_value=0.0)\n",
    "\n",
    "net_rip_yelt = retained_yelt.add(rip_yelt.groupby(yelt.index.names).sum(),\n",
    "    fill_value=0.0)\n",
    "\n",
    "combined_rp_curves = pd.concat([\n",
    "    df.yel.to_rp_summary([500, 250, 200, 150, 100, 75, 50, 25, 10], is_ep=True,\n",
    "                         is_occurrence=True).rename(name)\n",
    "    for name, df in\n",
    "    [('Gross', yelt), ('Net', retained_yelt), ('Final Net', net_rip_yelt)]\n",
    "], axis=1)\n",
    "\n",
    "display(combined_rp_curves.style.format(\"{:,.0f}\"))\n"
   ],
   "outputs": [
    {
     "data": {
      "text/plain": [
       "<pandas.io.formats.style.Styler at 0x7c66843196f0>"
      ],
      "text/html": [
       "<style type=\"text/css\">\n",
       "</style>\n",
       "<table id=\"T_e7d75\">\n",
       "  <thead>\n",
       "    <tr>\n",
       "      <th class=\"blank level0\" >&nbsp;</th>\n",
       "      <th id=\"T_e7d75_level0_col0\" class=\"col_heading level0 col0\" >Gross</th>\n",
       "      <th id=\"T_e7d75_level0_col1\" class=\"col_heading level0 col1\" >Net</th>\n",
       "      <th id=\"T_e7d75_level0_col2\" class=\"col_heading level0 col2\" >Final Net</th>\n",
       "    </tr>\n",
       "    <tr>\n",
       "      <th class=\"index_name level0\" >ReturnPeriod</th>\n",
       "      <th class=\"blank col0\" >&nbsp;</th>\n",
       "      <th class=\"blank col1\" >&nbsp;</th>\n",
       "      <th class=\"blank col2\" >&nbsp;</th>\n",
       "    </tr>\n",
       "  </thead>\n",
       "  <tbody>\n",
       "    <tr>\n",
       "      <th id=\"T_e7d75_level0_row0\" class=\"row_heading level0 row0\" >500</th>\n",
       "      <td id=\"T_e7d75_row0_col0\" class=\"data row0 col0\" >272,297</td>\n",
       "      <td id=\"T_e7d75_row0_col1\" class=\"data row0 col1\" >192,297</td>\n",
       "      <td id=\"T_e7d75_row0_col2\" class=\"data row0 col2\" >195,297</td>\n",
       "    </tr>\n",
       "    <tr>\n",
       "      <th id=\"T_e7d75_level0_row1\" class=\"row_heading level0 row1\" >250</th>\n",
       "      <td id=\"T_e7d75_row1_col0\" class=\"data row1 col0\" >123,967</td>\n",
       "      <td id=\"T_e7d75_row1_col1\" class=\"data row1 col1\" >43,967</td>\n",
       "      <td id=\"T_e7d75_row1_col2\" class=\"data row1 col2\" >46,967</td>\n",
       "    </tr>\n",
       "    <tr>\n",
       "      <th id=\"T_e7d75_level0_row2\" class=\"row_heading level0 row2\" >200</th>\n",
       "      <td id=\"T_e7d75_row2_col0\" class=\"data row2 col0\" >101,450</td>\n",
       "      <td id=\"T_e7d75_row2_col1\" class=\"data row2 col1\" >21,450</td>\n",
       "      <td id=\"T_e7d75_row2_col2\" class=\"data row2 col2\" >24,450</td>\n",
       "    </tr>\n",
       "    <tr>\n",
       "      <th id=\"T_e7d75_level0_row3\" class=\"row_heading level0 row3\" >150</th>\n",
       "      <td id=\"T_e7d75_row3_col0\" class=\"data row3 col0\" >75,760</td>\n",
       "      <td id=\"T_e7d75_row3_col1\" class=\"data row3 col1\" >20,000</td>\n",
       "      <td id=\"T_e7d75_row3_col2\" class=\"data row3 col2\" >23,000</td>\n",
       "    </tr>\n",
       "    <tr>\n",
       "      <th id=\"T_e7d75_level0_row4\" class=\"row_heading level0 row4\" >100</th>\n",
       "      <td id=\"T_e7d75_row4_col0\" class=\"data row4 col0\" >49,340</td>\n",
       "      <td id=\"T_e7d75_row4_col1\" class=\"data row4 col1\" >20,000</td>\n",
       "      <td id=\"T_e7d75_row4_col2\" class=\"data row4 col2\" >22,449</td>\n",
       "    </tr>\n",
       "    <tr>\n",
       "      <th id=\"T_e7d75_level0_row5\" class=\"row_heading level0 row5\" >75</th>\n",
       "      <td id=\"T_e7d75_row5_col0\" class=\"data row5 col0\" >36,257</td>\n",
       "      <td id=\"T_e7d75_row5_col1\" class=\"data row5 col1\" >20,000</td>\n",
       "      <td id=\"T_e7d75_row5_col2\" class=\"data row5 col2\" >21,616</td>\n",
       "    </tr>\n",
       "    <tr>\n",
       "      <th id=\"T_e7d75_level0_row6\" class=\"row_heading level0 row6\" >50</th>\n",
       "      <td id=\"T_e7d75_row6_col0\" class=\"data row6 col0\" >24,074</td>\n",
       "      <td id=\"T_e7d75_row6_col1\" class=\"data row6 col1\" >20,000</td>\n",
       "      <td id=\"T_e7d75_row6_col2\" class=\"data row6 col2\" >20,407</td>\n",
       "    </tr>\n",
       "    <tr>\n",
       "      <th id=\"T_e7d75_level0_row7\" class=\"row_heading level0 row7\" >25</th>\n",
       "      <td id=\"T_e7d75_row7_col0\" class=\"data row7 col0\" >12,135</td>\n",
       "      <td id=\"T_e7d75_row7_col1\" class=\"data row7 col1\" >12,135</td>\n",
       "      <td id=\"T_e7d75_row7_col2\" class=\"data row7 col2\" >12,135</td>\n",
       "    </tr>\n",
       "    <tr>\n",
       "      <th id=\"T_e7d75_level0_row8\" class=\"row_heading level0 row8\" >10</th>\n",
       "      <td id=\"T_e7d75_row8_col0\" class=\"data row8 col0\" >4,708</td>\n",
       "      <td id=\"T_e7d75_row8_col1\" class=\"data row8 col1\" >4,708</td>\n",
       "      <td id=\"T_e7d75_row8_col2\" class=\"data row8 col2\" >4,708</td>\n",
       "    </tr>\n",
       "  </tbody>\n",
       "</table>\n"
      ]
     },
     "metadata": {},
     "output_type": "display_data"
    }
   ],
   "execution_count": 5
  },
  {
   "cell_type": "markdown",
   "id": "d524374b",
   "metadata": {},
   "source": [
    "Plot the OEP"
   ]
  },
  {
   "cell_type": "code",
   "id": "08675de8",
   "metadata": {
    "ExecuteTime": {
     "end_time": "2025-08-15T23:34:50.680734Z",
     "start_time": "2025-08-15T23:34:49.786204Z"
    }
   },
   "source": [
    "# Make a plot\n",
    "fig, ax = plt.subplots(1)\n",
    "\n",
    "for name, df in [('Gross', yelt), ('Net', retained_yelt), ('Final Net', net_rip_yelt)]:\n",
    "    df.yel.to_ylt(is_occurrence=True).yl.to_ep_curve().plot('Loss', 'ExProb', ax=ax,\n",
    "                                                            label=name)\n",
    "\n",
    "ax.set(xscale='log', yscale='log', ylim=[1e-4, 1], ylabel='Exceedance Probability')\n",
    "plt.title('OEP curves')\n",
    "plt.show()"
   ],
   "outputs": [
    {
     "data": {
      "text/plain": [
       "<Figure size 640x480 with 1 Axes>"
      ],
      "image/png": "[encoded data removed]"
     },
     "metadata": {},
     "output_type": "display_data"
    }
   ],
   "execution_count": 6
  },
  {
   "cell_type": "markdown",
   "id": "01a597bc",
   "metadata": {},
   "source": [
    "Plot AEP"
   ]
  },
  {
   "cell_type": "code",
   "id": "cce2d7da",
   "metadata": {
    "ExecuteTime": {
     "end_time": "2025-08-15T23:34:51.352371Z",
     "start_time": "2025-08-15T23:34:50.688567Z"
    }
   },
   "source": [
    "# Make a plot\n",
    "fig, ax = plt.subplots(1)\n",
    "\n",
    "for name, df in [('Gross', yelt), ('Net', retained_yelt), ('Final Net', net_rip_yelt)]:\n",
    "    df.yel.to_ylt().yl.to_ep_curve().plot('Loss', 'ExProb', ax=ax, label=name)\n",
    "\n",
    "for rp in [100, 200, 500]:\n",
    "    ax.plot(ax.get_xlim(), [1 / rp, 1 / rp], '--k', linewidth=0.5)\n",
    "    ax.text(1.75e5, 1 / rp, f\"1:{rp}\")\n",
    "\n",
    "ax.set(yscale='log', ylim=[1e-4, 1], xlim=[0, 0.2e6], ylabel='Exceedance Probability')\n",
    "plt.title('AEP curves')\n",
    "plt.show()"
   ],
   "outputs": [
    {
     "data": {
      "text/plain": [
       "<Figure size 640x480 with 1 Axes>"
      ],
      "image/png": "[encoded data removed]"
     },
     "metadata": {},
     "output_type": "display_data"
    }
   ],
   "execution_count": 7
  },
  {
   "cell_type": "markdown",
   "id": "b798a76a",
   "metadata": {},
   "source": [
    "### Simplified example numbers to show the impact on the cost of capital"
   ]
  },
  {
   "cell_type": "code",
   "id": "172f7a26",
   "metadata": {
    "ExecuteTime": {
     "end_time": "2025-08-15T23:34:51.483602Z",
     "start_time": "2025-08-15T23:34:51.359861Z"
    }
   },
   "source": [
    "benchmark_exprob = 1 / 200.0\n",
    "capital_ratio = 2.0\n",
    "capital_cost_rate = 0.08\n",
    "cost_of_reins = sum([x.premium for x in layers.values()])\n",
    "\n",
    "# Base case with no reinsurance\n",
    "print(\"No reinsurance.\")\n",
    "\n",
    "capital_required = capital_ratio * yelt.yel.to_ylt().yl.loss_at_exprobs(\n",
    "    benchmark_exprob)\n",
    "capital_buffer = capital_required * (capital_ratio - 1) / capital_ratio\n",
    "print(f\"\\tCapital Requirement: {capital_required:,.0f} for a buffer of \" +\n",
    "      f\"{capital_buffer:,.0f} at the 1:{1 / benchmark_exprob:,.0f}\")\n",
    "\n",
    "capital_costs = capital_required * capital_cost_rate\n",
    "print(f\"\\tCosts associated with holding the capital {capital_costs:,.0f}\")\n",
    "\n",
    "peak_loss = capital_required\n",
    "print(\"\\tReturn period for peak loss = \" +\n",
    "      f\"{1 / yelt.yel.to_ylt().yl.loss_exprobs([peak_loss])[0]:,.0f}\")\n",
    "\n",
    "# How reinsuance changes the numbers\n",
    "print(\"Reinsurance + same capital.\")\n",
    "\n",
    "capital_used = net_rip_yelt.yel.to_ylt().yl.loss_at_exprobs(benchmark_exprob)\n",
    "print(f\"\\tNow have buffer of {capital_required - capital_used - cost_of_reins:,.0f}\")\n",
    "\n",
    "print(\"\\tReturn period for peak loss = \" +\n",
    "      f\"{1 / net_rip_yelt.yel.to_ylt().yl.loss_exprobs(peak_loss - cost_of_reins):,.0f}\")\n",
    "\n",
    "print(f\"\\tCost of reins = {cost_of_reins:,.0f}\")\n",
    "print(f\"\\tCost of reins + maintinaing capital = {cost_of_reins + capital_costs:,.0f}\")\n",
    "\n",
    "# If reinsurance is used instead of capital\n",
    "print(\"Reinsurance offsetting capital.\")\n",
    "\n",
    "new_capital_requirement = capital_buffer + capital_used\n",
    "print(f\"\\tNew Capital Requirement: {new_capital_requirement:,.0f} for a buffer of \" +\n",
    "      f\"{capital_buffer:,.0f}\")\n",
    "\n",
    "print(\"\\tReturn period for peak loss = \" +\n",
    "      f\"{1 / net_rip_yelt.yel.to_ylt().yl.loss_exprobs([new_capital_requirement])[0]:,.0f}\")\n",
    "\n",
    "new_peak_loss = net_rip_yelt.yel.to_ylt().yl.loss_at_exprobs(\n",
    "    benchmark_exprob) + capital_buffer\n",
    "\n",
    "new_capital_costs = new_capital_requirement * capital_cost_rate\n",
    "print(\n",
    "    f\"\\tCost of reins + maintinaing capital = {cost_of_reins + new_capital_costs:,.0f}\")\n",
    "\n"
   ],
   "outputs": [
    {
     "name": "stdout",
     "output_type": "stream",
     "text": [
      "No reinsurance.\n",
      "\tCapital Requirement: 208,036 for a buffer of 104,018 at the 1:200\n",
      "\tCosts associated with holding the capital 16,643\n",
      "\tReturn period for peak loss = 388\n",
      "Reinsurance + same capital.\n",
      "\tNow have buffer of 167,681\n",
      "\tReturn period for peak loss = 518\n",
      "\tCost of reins = 3,800\n",
      "\tCost of reins + maintinaing capital = 20,443\n",
      "Reinsurance offsetting capital.\n",
      "\tNew Capital Requirement: 140,572 for a buffer of 104,018\n",
      "\tReturn period for peak loss = 405\n",
      "\tCost of reins + maintinaing capital = 15,046\n"
     ]
    }
   ],
   "execution_count": 8
  },
  {
   "cell_type": "markdown",
   "id": "d8ebd10d",
   "metadata": {},
   "source": [
    "### Define some layers"
   ]
  },
  {
   "cell_type": "code",
   "id": "6aee07c8",
   "metadata": {
    "ExecuteTime": {
     "end_time": "2025-08-15T23:34:51.523180Z",
     "start_time": "2025-08-15T23:34:51.518591Z"
    }
   },
   "source": [
    "\n",
    "\n",
    "\n",
    "# layers = [\n",
    "#     # First loss\n",
    "#     {'name': '20 xs 0', 'layer': Layer(**{'limit': 20000, 'xs': 0, 'agg_limit': 20000.0})},    \n",
    "#     {'name': '20 xs 20', 'layer': Layer(**{'limit': 20000, 'xs': 20000, 'agg_limit': 20000.0})},\n",
    "#     {'name': '20 xs 40', 'layer': Layer(**{'limit': 20000, 'xs': 40000, 'agg_limit': 20000.0})},\n",
    "#     {'name': '20 xs 60', 'layer': Layer(**{'limit': 20000, 'xs': 60000, 'agg_limit': 20000.0})},    \n",
    "#     {'name': '20 xs 80', 'layer': Layer(**{'limit': 20000, 'xs': 80000, 'agg_limit': 20000.0})},    \n",
    "#     # Second loss\n",
    "#     {'name': '20 xs 0 reinst', 'layer': Layer(**{'limit': 20000, 'xs': 0, 'agg_limit': 20000.0, 'agg_xs': 20000.0})},        \n",
    "#     {'name': '20 xs 20 reinst', 'layer': Layer(**{'limit': 20000, 'xs': 20000, 'agg_limit': 20000.0, 'agg_xs': 20000.0})},\n",
    "#     {'name': '20 xs 40 reinst', 'layer': Layer(**{'limit': 20000, 'xs': 40000, 'agg_limit': 20000.0, 'agg_xs': 20000.0})},\n",
    "#     {'name': '20 xs 60 reinst', 'layer': Layer(**{'limit': 20000, 'xs': 60000, 'agg_limit': 20000.0, 'agg_xs': 20000.0})}, \n",
    "#     {'name': '20 xs 80 reinst', 'layer': Layer(**{'limit': 20000, 'xs': 80000, 'agg_limit': 20000.0, 'agg_xs': 20000.0})}, \n",
    "# ]\n",
    "\n"
   ],
   "outputs": [],
   "execution_count": 9
  }
 ],
 "metadata": {
  "interpreter": {
   "hash": "47fdc3760ace9dedd6181b3c9679187d644739cae698f056878f8d888561f103"
  },
  "kernelspec": {
   "display_name": "Python 3.10.6 ('venv': venv)",
   "language": "python",
   "name": "python3"
  },
  "language_info": {
   "codemirror_mode": {
    "name": "ipython",
    "version": 3
   },
   "file_extension": ".py",
   "mimetype": "text/x-python",
   "name": "python",
   "nbconvert_exporter": "python",
   "pygments_lexer": "ipython3",
   "version": "3.10.12"
  }
 },
 "nbformat": 4,
 "nbformat_minor": 5
}
