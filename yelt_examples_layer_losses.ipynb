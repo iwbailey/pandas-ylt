{
 "cells": [
  {
   "cell_type": "markdown",
   "id": "precious-dealing",
   "metadata": {},
   "source": [
    "pandas-ylt\n",
    "==========\n",
    "\n",
    "Python modules for working in pandas with various loss data tables used for CAT modelling\n"
   ]
  },
  {
   "cell_type": "markdown",
   "id": "ea25deed",
   "metadata": {},
   "source": [
    "### Read the example YLT"
   ]
  },
  {
   "metadata": {
    "ExecuteTime": {
     "end_time": "2025-08-20T18:01:54.689352Z",
     "start_time": "2025-08-20T18:01:53.870972Z"
    }
   },
   "cell_type": "code",
   "source": [
    "import pandas as pd\n",
    "import matplotlib.pyplot as plt\n",
    "\n",
    "from pandas_ylt.layer import Layer\n",
    "from pandas_ylt import YearLossTable, YearEventLossTable\n",
    "\n",
    "pd.api.extensions.register_dataframe_accessor(\"yel\")(YearEventLossTable)\n",
    "pd.api.extensions.register_dataframe_accessor(\"yl\")(YearLossTable)\n",
    "\n",
    "yelt = pd.read_csv(\"tests/_data/example_pareto_poisson_yelt.csv\",\n",
    "                   index_col=['Year', 'EventID', 'DayOfYear'])['Loss']\n",
    "yelt.attrs['n_yrs'] = int(1e5)\n",
    "\n",
    "display(yelt.yel.to_rp_summaries([1000, 200, 100, 10], is_ef=False).unstack(\n",
    "    'Metric').style.format(\"{:,.0f}\"))\n",
    "display(yelt.yel.to_summary_stats_series().to_frame().style.format(\"{:,.0f}\"))"
   ],
   "id": "39f63ccc814024cb",
   "outputs": [
    {
     "data": {
      "text/plain": [
       "<pandas.io.formats.style.Styler at 0x7ae5870da6b0>"
      ],
      "text/html": [
       "<style type=\"text/css\">\n",
       "</style>\n",
       "<table id=\"T_6741f\">\n",
       "  <thead>\n",
       "    <tr>\n",
       "      <th class=\"index_name level0\" >Metric</th>\n",
       "      <th id=\"T_6741f_level0_col0\" class=\"col_heading level0 col0\" >AEP</th>\n",
       "      <th id=\"T_6741f_level0_col1\" class=\"col_heading level0 col1\" >OEP</th>\n",
       "    </tr>\n",
       "    <tr>\n",
       "      <th class=\"index_name level0\" >ReturnPeriod</th>\n",
       "      <th class=\"blank col0\" >&nbsp;</th>\n",
       "      <th class=\"blank col1\" >&nbsp;</th>\n",
       "    </tr>\n",
       "  </thead>\n",
       "  <tbody>\n",
       "    <tr>\n",
       "      <th id=\"T_6741f_level0_row0\" class=\"row_heading level0 row0\" >1000</th>\n",
       "      <td id=\"T_6741f_row0_col0\" class=\"data row0 col0\" >494,221</td>\n",
       "      <td id=\"T_6741f_row0_col1\" class=\"data row0 col1\" >494,221</td>\n",
       "    </tr>\n",
       "    <tr>\n",
       "      <th id=\"T_6741f_level0_row1\" class=\"row_heading level0 row1\" >200</th>\n",
       "      <td id=\"T_6741f_row1_col0\" class=\"data row1 col0\" >104,018</td>\n",
       "      <td id=\"T_6741f_row1_col1\" class=\"data row1 col1\" >101,450</td>\n",
       "    </tr>\n",
       "    <tr>\n",
       "      <th id=\"T_6741f_level0_row2\" class=\"row_heading level0 row2\" >100</th>\n",
       "      <td id=\"T_6741f_row2_col0\" class=\"data row2 col0\" >51,611</td>\n",
       "      <td id=\"T_6741f_row2_col1\" class=\"data row2 col1\" >49,340</td>\n",
       "    </tr>\n",
       "    <tr>\n",
       "      <th id=\"T_6741f_level0_row3\" class=\"row_heading level0 row3\" >10</th>\n",
       "      <td id=\"T_6741f_row3_col0\" class=\"data row3 col0\" >5,539</td>\n",
       "      <td id=\"T_6741f_row3_col1\" class=\"data row3 col1\" >4,708</td>\n",
       "    </tr>\n",
       "  </tbody>\n",
       "</table>\n"
      ]
     },
     "metadata": {},
     "output_type": "display_data"
    },
    {
     "data": {
      "text/plain": [
       "<pandas.io.formats.style.Styler at 0x7ae5870da7a0>"
      ],
      "text/html": [
       "<style type=\"text/css\">\n",
       "</style>\n",
       "<table id=\"T_22a46\">\n",
       "  <thead>\n",
       "    <tr>\n",
       "      <th class=\"blank level0\" >&nbsp;</th>\n",
       "      <th id=\"T_22a46_level0_col0\" class=\"col_heading level0 col0\" >Loss</th>\n",
       "    </tr>\n",
       "    <tr>\n",
       "      <th class=\"index_name level0\" >Metric</th>\n",
       "      <th class=\"blank col0\" >&nbsp;</th>\n",
       "    </tr>\n",
       "  </thead>\n",
       "  <tbody>\n",
       "    <tr>\n",
       "      <th id=\"T_22a46_level0_row0\" class=\"row_heading level0 row0\" >AAL</th>\n",
       "      <td id=\"T_22a46_row0_col0\" class=\"data row0 col0\" >5,564</td>\n",
       "    </tr>\n",
       "    <tr>\n",
       "      <th id=\"T_22a46_level0_row1\" class=\"row_heading level0 row1\" >STD</th>\n",
       "      <td id=\"T_22a46_row1_col0\" class=\"data row1 col0\" >158,881</td>\n",
       "    </tr>\n",
       "  </tbody>\n",
       "</table>\n"
      ]
     },
     "metadata": {},
     "output_type": "display_data"
    }
   ],
   "execution_count": 1
  },
  {
   "cell_type": "markdown",
   "id": "a3c09fe0",
   "metadata": {},
   "source": "### Define an example reinsurance tower to the losses"
  },
  {
   "cell_type": "code",
   "id": "b97cd028",
   "metadata": {
    "ExecuteTime": {
     "end_time": "2025-08-20T18:01:54.704690Z",
     "start_time": "2025-08-20T18:01:54.694956Z"
    }
   },
   "source": [
    "layer_params = {\n",
    "    \"20 xs 20 (1@100)\": {\"limit\": 20000, \"xs\": 20000, \"agg_limit\": 40000.0, \"reinst_at\": 1.0, \"base_premium\": 2000},\n",
    "    \"20 xs 40 (1@100)\": {\"limit\": 20000, \"xs\": 40000, \"agg_limit\": 40000.0, \"reinst_at\": 1.0, \"base_premium\": 1000},\n",
    "    \"20 xs 60 (1@0)\":  {\"limit\": 20000, \"xs\": 60000, \"agg_limit\": 40000.0, \"reinst_at\": 0.0, 'base_premium': 400},\n",
    "    \"20 xs 80 (Single Shot)\": {\"limit\": 20000, \"xs\": 80000, \"agg_limit\": 20000.0, \"reinst_at\": 0.0, \"base_premium\": 400},\n",
    "}\n",
    "\n",
    "display(pd.DataFrame(layer_params).T\n",
    "        .style.format({'limit': \"{:,.0f}\", 'xs': \"{:,.0f}\", 'agg_limit': \"{:,.0f}\", 'reinst_at': \"{:.1%}\", 'base_premium': \"{:,.0f}\"}))\n",
    "\n",
    "layers = {k: Layer(**layer_params[k]) for k in layer_params.keys()}\n"
   ],
   "outputs": [
    {
     "data": {
      "text/plain": [
       "<pandas.io.formats.style.Styler at 0x7ae5a7ea7610>"
      ],
      "text/html": [
       "<style type=\"text/css\">\n",
       "</style>\n",
       "<table id=\"T_075ad\">\n",
       "  <thead>\n",
       "    <tr>\n",
       "      <th class=\"blank level0\" >&nbsp;</th>\n",
       "      <th id=\"T_075ad_level0_col0\" class=\"col_heading level0 col0\" >limit</th>\n",
       "      <th id=\"T_075ad_level0_col1\" class=\"col_heading level0 col1\" >xs</th>\n",
       "      <th id=\"T_075ad_level0_col2\" class=\"col_heading level0 col2\" >agg_limit</th>\n",
       "      <th id=\"T_075ad_level0_col3\" class=\"col_heading level0 col3\" >reinst_at</th>\n",
       "      <th id=\"T_075ad_level0_col4\" class=\"col_heading level0 col4\" >base_premium</th>\n",
       "    </tr>\n",
       "  </thead>\n",
       "  <tbody>\n",
       "    <tr>\n",
       "      <th id=\"T_075ad_level0_row0\" class=\"row_heading level0 row0\" >20 xs 20 (1@100)</th>\n",
       "      <td id=\"T_075ad_row0_col0\" class=\"data row0 col0\" >20,000</td>\n",
       "      <td id=\"T_075ad_row0_col1\" class=\"data row0 col1\" >20,000</td>\n",
       "      <td id=\"T_075ad_row0_col2\" class=\"data row0 col2\" >40,000</td>\n",
       "      <td id=\"T_075ad_row0_col3\" class=\"data row0 col3\" >100.0%</td>\n",
       "      <td id=\"T_075ad_row0_col4\" class=\"data row0 col4\" >2,000</td>\n",
       "    </tr>\n",
       "    <tr>\n",
       "      <th id=\"T_075ad_level0_row1\" class=\"row_heading level0 row1\" >20 xs 40 (1@100)</th>\n",
       "      <td id=\"T_075ad_row1_col0\" class=\"data row1 col0\" >20,000</td>\n",
       "      <td id=\"T_075ad_row1_col1\" class=\"data row1 col1\" >40,000</td>\n",
       "      <td id=\"T_075ad_row1_col2\" class=\"data row1 col2\" >40,000</td>\n",
       "      <td id=\"T_075ad_row1_col3\" class=\"data row1 col3\" >100.0%</td>\n",
       "      <td id=\"T_075ad_row1_col4\" class=\"data row1 col4\" >1,000</td>\n",
       "    </tr>\n",
       "    <tr>\n",
       "      <th id=\"T_075ad_level0_row2\" class=\"row_heading level0 row2\" >20 xs 60 (1@0)</th>\n",
       "      <td id=\"T_075ad_row2_col0\" class=\"data row2 col0\" >20,000</td>\n",
       "      <td id=\"T_075ad_row2_col1\" class=\"data row2 col1\" >60,000</td>\n",
       "      <td id=\"T_075ad_row2_col2\" class=\"data row2 col2\" >40,000</td>\n",
       "      <td id=\"T_075ad_row2_col3\" class=\"data row2 col3\" >0.0%</td>\n",
       "      <td id=\"T_075ad_row2_col4\" class=\"data row2 col4\" >400</td>\n",
       "    </tr>\n",
       "    <tr>\n",
       "      <th id=\"T_075ad_level0_row3\" class=\"row_heading level0 row3\" >20 xs 80 (Single Shot)</th>\n",
       "      <td id=\"T_075ad_row3_col0\" class=\"data row3 col0\" >20,000</td>\n",
       "      <td id=\"T_075ad_row3_col1\" class=\"data row3 col1\" >80,000</td>\n",
       "      <td id=\"T_075ad_row3_col2\" class=\"data row3 col2\" >20,000</td>\n",
       "      <td id=\"T_075ad_row3_col3\" class=\"data row3 col3\" >0.0%</td>\n",
       "      <td id=\"T_075ad_row3_col4\" class=\"data row3 col4\" >400</td>\n",
       "    </tr>\n",
       "  </tbody>\n",
       "</table>\n"
      ]
     },
     "metadata": {},
     "output_type": "display_data"
    }
   ],
   "execution_count": 2
  },
  {
   "metadata": {},
   "cell_type": "markdown",
   "source": "### Calculate various year (event) loss tables",
   "id": "73086bb2b182ecbe"
  },
  {
   "metadata": {
    "ExecuteTime": {
     "end_time": "2025-08-20T18:01:55.648020Z",
     "start_time": "2025-08-20T18:01:54.747794Z"
    }
   },
   "cell_type": "code",
   "source": [
    "# Get a separate YLT for each layer\n",
    "lyr_ylts = pd.concat({lyr: layers[lyr].ceded_ylt(yelt) for lyr in layers},\n",
    "                     names=['LayerName'])\n",
    "\n",
    "# Amount of limit reinstated in each sim year\n",
    "lyr_reinst = pd.concat({lyr: layers[lyr].ceded_ylt(yelt, only_reinstated=True) for lyr in layers},\n",
    "                       names=['LayerName'])\n",
    "\n",
    "# Separate YELT for each layer\n",
    "lyr_yelts = pd.concat({lyr: layers[lyr].ceded_yelt(yelt) for lyr in layers}, names=['LayerName'])\n",
    "\n",
    "# Amount reinstated in each event\n",
    "lyr_event_reinst = pd.concat({lyr: layers[lyr].ceded_yelt(yelt, only_reinstated=True) for lyr in layers}, names=['LayerName'])\n",
    "\n",
    "# Layer premium per year\n",
    "lyr_year_premiums = pd.concat(\n",
    "        {lyr: pd.Series(layer_params[lyr]['base_premium'], index=pd.Index(range(1, yelt.yel.n_yrs + 1), name='Year'))\n",
    "         for lyr in layers}, names=['LayerName'])\n",
    "\n",
    "# Layer reinstatement cost per year per event\n",
    "lyr_event_reinst_cost = (lyr_event_reinst\n",
    "                         .divide(pd.Series({k: layers[k].notional_limit for k in layers}).rename_axis('LayerName'))\n",
    "                         .multiply(pd.Series({k: layers[k].reinst_at for k in layers}).rename_axis('LayerName'))\n",
    "                         .multiply(lyr_year_premiums.loc[lyr_year_premiums.index.isin(lyr_reinst.index)])\n",
    "                         .rename('RiP')\n",
    "                         )\n",
    "\n",
    "# Net losses, cession to the layers\n",
    "retained_yelt = yelt.subtract(lyr_yelts.groupby(yelt.index.names).sum(), fill_value=0.0)\n",
    "\n",
    "# Net losses + reinstatement premiums\n",
    "net_rip_yelt = retained_yelt.add(lyr_event_reinst_cost.groupby(yelt.index.names).sum().rename('Loss'), fill_value=0.0)\n",
    "\n",
    "# Annual loss + reinst premiums + base premium\n",
    "net_premium_ylt = net_rip_yelt.yel.to_ylt().yl.to_ylt_filled().add(lyr_year_premiums.groupby('Year').sum().rename('Loss'))\n",
    "\n"
   ],
   "id": "b53fa57588463e30",
   "outputs": [],
   "execution_count": 3
  },
  {
   "cell_type": "markdown",
   "id": "e0fdd5b6",
   "metadata": {},
   "source": "### Get the summary stats for each layer"
  },
  {
   "metadata": {
    "ExecuteTime": {
     "end_time": "2025-08-20T18:01:55.728108Z",
     "start_time": "2025-08-20T18:01:55.659948Z"
    }
   },
   "cell_type": "code",
   "source": [
    "# Calculate the layer stats from the YLTs\n",
    "summary_stats = {k:\n",
    "                     {'AAL': lyr_ylts.loc[k].yl.aal,\n",
    "                      'STD': lyr_ylts.loc[k].yl.std(),\n",
    "                      'AvgReinstLimit': lyr_reinst.loc[k].yl.aal,\n",
    "                      'AttachRP': 1 / lyr_ylts.loc[k].yl.prob_of_a_loss,\n",
    "                      'OccLimitRP': 1 / lyr_ylts.loc[k].yl.loss_exprob(layers[k].limit),\n",
    "                      'OccLimitRP (Single Event)': 1 / lyr_yelts.loc[k].yel.to_ylt(is_occurrence=True).yl.loss_exprob(layers[k].limit),\n",
    "                      'ExhaustRP': 1 / lyr_ylts.loc[k].yl.loss_exprob(layers[k].agg_limit),\n",
    "                      'Premium+RiP': layers[k].premium + layers[k].reinst_rate * lyr_reinst.loc[k].yl.aal,\n",
    "                      }\n",
    "                 for k in layers}\n",
    "\n",
    "# Display the results to check the same as before\n",
    "pd.DataFrame(summary_stats).T.style.format({\"AAL\": \"{:,.0f}\",\n",
    "                                            'STD': '{:,.0f}',\n",
    "                                            'AvgReinstLimit': '{:.1f}',\n",
    "                                            'AttachRP': \"{:,.0f}\",\n",
    "                                            'OccLimitRP': \"{:,.2f}\",\n",
    "                                            'OccLimitRP (Single Event)': \"{:,.2f}\",\n",
    "                                            'ExhaustRP': \"{:,.0f}\",\n",
    "                                            })"
   ],
   "id": "4d6b4d646637ad60",
   "outputs": [
    {
     "data": {
      "text/plain": [
       "<pandas.io.formats.style.Styler at 0x7ae5a7ea7a60>"
      ],
      "text/html": [
       "<style type=\"text/css\">\n",
       "</style>\n",
       "<table id=\"T_ba8c5\">\n",
       "  <thead>\n",
       "    <tr>\n",
       "      <th class=\"blank level0\" >&nbsp;</th>\n",
       "      <th id=\"T_ba8c5_level0_col0\" class=\"col_heading level0 col0\" >AAL</th>\n",
       "      <th id=\"T_ba8c5_level0_col1\" class=\"col_heading level0 col1\" >STD</th>\n",
       "      <th id=\"T_ba8c5_level0_col2\" class=\"col_heading level0 col2\" >AvgReinstLimit</th>\n",
       "      <th id=\"T_ba8c5_level0_col3\" class=\"col_heading level0 col3\" >AttachRP</th>\n",
       "      <th id=\"T_ba8c5_level0_col4\" class=\"col_heading level0 col4\" >OccLimitRP</th>\n",
       "      <th id=\"T_ba8c5_level0_col5\" class=\"col_heading level0 col5\" >OccLimitRP (Single Event)</th>\n",
       "      <th id=\"T_ba8c5_level0_col6\" class=\"col_heading level0 col6\" >ExhaustRP</th>\n",
       "      <th id=\"T_ba8c5_level0_col7\" class=\"col_heading level0 col7\" >Premium+RiP</th>\n",
       "    </tr>\n",
       "  </thead>\n",
       "  <tbody>\n",
       "    <tr>\n",
       "      <th id=\"T_ba8c5_level0_row0\" class=\"row_heading level0 row0\" >20 xs 20 (1@100)</th>\n",
       "      <td id=\"T_ba8c5_row0_col0\" class=\"data row0 col0\" >336</td>\n",
       "      <td id=\"T_ba8c5_row0_col1\" class=\"data row0 col1\" >2,439</td>\n",
       "      <td id=\"T_ba8c5_row0_col2\" class=\"data row0 col2\" >334.0</td>\n",
       "      <td id=\"T_ba8c5_row0_col3\" class=\"data row0 col3\" >41</td>\n",
       "      <td id=\"T_ba8c5_row0_col4\" class=\"data row0 col4\" >81.70</td>\n",
       "      <td id=\"T_ba8c5_row0_col5\" class=\"data row0 col5\" >81.83</td>\n",
       "      <td id=\"T_ba8c5_row0_col6\" class=\"data row0 col6\" >16,667</td>\n",
       "      <td id=\"T_ba8c5_row0_col7\" class=\"data row0 col7\" >0.000000</td>\n",
       "    </tr>\n",
       "    <tr>\n",
       "      <th id=\"T_ba8c5_level0_row1\" class=\"row_heading level0 row1\" >20 xs 40 (1@100)</th>\n",
       "      <td id=\"T_ba8c5_row1_col0\" class=\"data row1 col0\" >201</td>\n",
       "      <td id=\"T_ba8c5_row1_col1\" class=\"data row1 col1\" >1,934</td>\n",
       "      <td id=\"T_ba8c5_row1_col2\" class=\"data row1 col2\" >199.9</td>\n",
       "      <td id=\"T_ba8c5_row1_col3\" class=\"data row1 col3\" >82</td>\n",
       "      <td id=\"T_ba8c5_row1_col4\" class=\"data row1 col4\" >120.92</td>\n",
       "      <td id=\"T_ba8c5_row1_col5\" class=\"data row1 col5\" >120.92</td>\n",
       "      <td id=\"T_ba8c5_row1_col6\" class=\"data row1 col6\" >50,000</td>\n",
       "      <td id=\"T_ba8c5_row1_col7\" class=\"data row1 col7\" >0.000000</td>\n",
       "    </tr>\n",
       "    <tr>\n",
       "      <th id=\"T_ba8c5_level0_row2\" class=\"row_heading level0 row2\" >20 xs 60 (1@0)</th>\n",
       "      <td id=\"T_ba8c5_row2_col0\" class=\"data row2 col0\" >144</td>\n",
       "      <td id=\"T_ba8c5_row2_col1\" class=\"data row2 col1\" >1,656</td>\n",
       "      <td id=\"T_ba8c5_row2_col2\" class=\"data row2 col2\" >144.0</td>\n",
       "      <td id=\"T_ba8c5_row2_col3\" class=\"data row2 col3\" >121</td>\n",
       "      <td id=\"T_ba8c5_row2_col4\" class=\"data row2 col4\" >160.51</td>\n",
       "      <td id=\"T_ba8c5_row2_col5\" class=\"data row2 col5\" >160.51</td>\n",
       "      <td id=\"T_ba8c5_row2_col6\" class=\"data row2 col6\" >100,000</td>\n",
       "      <td id=\"T_ba8c5_row2_col7\" class=\"data row2 col7\" >0.000000</td>\n",
       "    </tr>\n",
       "    <tr>\n",
       "      <th id=\"T_ba8c5_level0_row3\" class=\"row_heading level0 row3\" >20 xs 80 (Single Shot)</th>\n",
       "      <td id=\"T_ba8c5_row3_col0\" class=\"data row3 col0\" >114</td>\n",
       "      <td id=\"T_ba8c5_row3_col1\" class=\"data row3 col1\" >1,481</td>\n",
       "      <td id=\"T_ba8c5_row3_col2\" class=\"data row3 col2\" >0.0</td>\n",
       "      <td id=\"T_ba8c5_row3_col3\" class=\"data row3 col3\" >161</td>\n",
       "      <td id=\"T_ba8c5_row3_col4\" class=\"data row3 col4\" >195.69</td>\n",
       "      <td id=\"T_ba8c5_row3_col5\" class=\"data row3 col5\" >196.08</td>\n",
       "      <td id=\"T_ba8c5_row3_col6\" class=\"data row3 col6\" >196</td>\n",
       "      <td id=\"T_ba8c5_row3_col7\" class=\"data row3 col7\" >0.000000</td>\n",
       "    </tr>\n",
       "  </tbody>\n",
       "</table>\n"
      ]
     },
     "execution_count": 4,
     "metadata": {},
     "output_type": "execute_result"
    }
   ],
   "execution_count": 4
  },
  {
   "cell_type": "markdown",
   "id": "98b98652",
   "metadata": {},
   "source": "### Get the net and final net EP curve"
  },
  {
   "cell_type": "code",
   "id": "cb96d6a6",
   "metadata": {
    "ExecuteTime": {
     "end_time": "2025-08-20T18:01:55.861154Z",
     "start_time": "2025-08-20T18:01:55.734068Z"
    }
   },
   "source": [
    "# Calculate the OEP curves at different perspectives\n",
    "return_periods = [500, 250, 200, 150, 100, 75, 50, 25, 10]\n",
    "combined_rp_curves = pd.concat([\n",
    "    df.yel.to_rp_summary(return_periods, is_ep=True, is_occurrence=True).rename(name)\n",
    "    for name, df in\n",
    "    [('Gross', yelt), ('Net', retained_yelt), ('NetRiP', net_rip_yelt)]\n",
    "], axis=1)\n",
    "\n",
    "print(\"OEP\")\n",
    "display(combined_rp_curves.reset_index().style.hide(axis=0).format(\"{:,.0f}\"))"
   ],
   "outputs": [
    {
     "name": "stdout",
     "output_type": "stream",
     "text": [
      "OEP\n"
     ]
    },
    {
     "data": {
      "text/plain": [
       "<pandas.io.formats.style.Styler at 0x7ae5870dbc40>"
      ],
      "text/html": [
       "<style type=\"text/css\">\n",
       "</style>\n",
       "<table id=\"T_7d4ed\">\n",
       "  <thead>\n",
       "    <tr>\n",
       "      <th id=\"T_7d4ed_level0_col0\" class=\"col_heading level0 col0\" >ReturnPeriod</th>\n",
       "      <th id=\"T_7d4ed_level0_col1\" class=\"col_heading level0 col1\" >Gross</th>\n",
       "      <th id=\"T_7d4ed_level0_col2\" class=\"col_heading level0 col2\" >Net</th>\n",
       "      <th id=\"T_7d4ed_level0_col3\" class=\"col_heading level0 col3\" >NetRiP</th>\n",
       "    </tr>\n",
       "  </thead>\n",
       "  <tbody>\n",
       "    <tr>\n",
       "      <td id=\"T_7d4ed_row0_col0\" class=\"data row0 col0\" >500</td>\n",
       "      <td id=\"T_7d4ed_row0_col1\" class=\"data row0 col1\" >272,297</td>\n",
       "      <td id=\"T_7d4ed_row0_col2\" class=\"data row0 col2\" >192,297</td>\n",
       "      <td id=\"T_7d4ed_row0_col3\" class=\"data row0 col3\" >195,297</td>\n",
       "    </tr>\n",
       "    <tr>\n",
       "      <td id=\"T_7d4ed_row1_col0\" class=\"data row1 col0\" >250</td>\n",
       "      <td id=\"T_7d4ed_row1_col1\" class=\"data row1 col1\" >123,967</td>\n",
       "      <td id=\"T_7d4ed_row1_col2\" class=\"data row1 col2\" >43,967</td>\n",
       "      <td id=\"T_7d4ed_row1_col3\" class=\"data row1 col3\" >46,967</td>\n",
       "    </tr>\n",
       "    <tr>\n",
       "      <td id=\"T_7d4ed_row2_col0\" class=\"data row2 col0\" >200</td>\n",
       "      <td id=\"T_7d4ed_row2_col1\" class=\"data row2 col1\" >101,450</td>\n",
       "      <td id=\"T_7d4ed_row2_col2\" class=\"data row2 col2\" >21,450</td>\n",
       "      <td id=\"T_7d4ed_row2_col3\" class=\"data row2 col3\" >24,450</td>\n",
       "    </tr>\n",
       "    <tr>\n",
       "      <td id=\"T_7d4ed_row3_col0\" class=\"data row3 col0\" >150</td>\n",
       "      <td id=\"T_7d4ed_row3_col1\" class=\"data row3 col1\" >75,760</td>\n",
       "      <td id=\"T_7d4ed_row3_col2\" class=\"data row3 col2\" >20,000</td>\n",
       "      <td id=\"T_7d4ed_row3_col3\" class=\"data row3 col3\" >23,000</td>\n",
       "    </tr>\n",
       "    <tr>\n",
       "      <td id=\"T_7d4ed_row4_col0\" class=\"data row4 col0\" >100</td>\n",
       "      <td id=\"T_7d4ed_row4_col1\" class=\"data row4 col1\" >49,340</td>\n",
       "      <td id=\"T_7d4ed_row4_col2\" class=\"data row4 col2\" >20,000</td>\n",
       "      <td id=\"T_7d4ed_row4_col3\" class=\"data row4 col3\" >22,449</td>\n",
       "    </tr>\n",
       "    <tr>\n",
       "      <td id=\"T_7d4ed_row5_col0\" class=\"data row5 col0\" >75</td>\n",
       "      <td id=\"T_7d4ed_row5_col1\" class=\"data row5 col1\" >36,257</td>\n",
       "      <td id=\"T_7d4ed_row5_col2\" class=\"data row5 col2\" >20,000</td>\n",
       "      <td id=\"T_7d4ed_row5_col3\" class=\"data row5 col3\" >21,616</td>\n",
       "    </tr>\n",
       "    <tr>\n",
       "      <td id=\"T_7d4ed_row6_col0\" class=\"data row6 col0\" >50</td>\n",
       "      <td id=\"T_7d4ed_row6_col1\" class=\"data row6 col1\" >24,074</td>\n",
       "      <td id=\"T_7d4ed_row6_col2\" class=\"data row6 col2\" >20,000</td>\n",
       "      <td id=\"T_7d4ed_row6_col3\" class=\"data row6 col3\" >20,407</td>\n",
       "    </tr>\n",
       "    <tr>\n",
       "      <td id=\"T_7d4ed_row7_col0\" class=\"data row7 col0\" >25</td>\n",
       "      <td id=\"T_7d4ed_row7_col1\" class=\"data row7 col1\" >12,135</td>\n",
       "      <td id=\"T_7d4ed_row7_col2\" class=\"data row7 col2\" >12,135</td>\n",
       "      <td id=\"T_7d4ed_row7_col3\" class=\"data row7 col3\" >12,135</td>\n",
       "    </tr>\n",
       "    <tr>\n",
       "      <td id=\"T_7d4ed_row8_col0\" class=\"data row8 col0\" >10</td>\n",
       "      <td id=\"T_7d4ed_row8_col1\" class=\"data row8 col1\" >4,708</td>\n",
       "      <td id=\"T_7d4ed_row8_col2\" class=\"data row8 col2\" >4,708</td>\n",
       "      <td id=\"T_7d4ed_row8_col3\" class=\"data row8 col3\" >4,708</td>\n",
       "    </tr>\n",
       "  </tbody>\n",
       "</table>\n"
      ]
     },
     "metadata": {},
     "output_type": "display_data"
    }
   ],
   "execution_count": 5
  },
  {
   "metadata": {
    "ExecuteTime": {
     "end_time": "2025-08-20T18:01:56.057564Z",
     "start_time": "2025-08-20T18:01:55.913162Z"
    }
   },
   "cell_type": "code",
   "source": [
    "# Calculate the AEP curves at different perspectives\n",
    "combined_rp_curves = pd.concat([\n",
    "    df.yel.to_rp_summary(return_periods, is_ep=True, is_occurrence=False).rename(name)\n",
    "    for name, df in\n",
    "    [('Gross', yelt), ('Net', retained_yelt), ('NetRiP', net_rip_yelt)]\n",
    "], axis=1)\n",
    "\n",
    "combined_rp_curves = pd.concat([combined_rp_curves,\n",
    "                                net_premium_ylt.yl.to_rp_summary(return_periods).rename('NetRIcosts')],\n",
    "                               axis=1)\n",
    "\n",
    "print(\"AEP\")\n",
    "display(combined_rp_curves.reset_index().style.hide(axis=0).format(\"{:,.0f}\"))"
   ],
   "id": "ca8a3474fedb1490",
   "outputs": [
    {
     "name": "stdout",
     "output_type": "stream",
     "text": [
      "AEP\n"
     ]
    },
    {
     "data": {
      "text/plain": [
       "<pandas.io.formats.style.Styler at 0x7ae5a7ea7520>"
      ],
      "text/html": [
       "<style type=\"text/css\">\n",
       "</style>\n",
       "<table id=\"T_6160d\">\n",
       "  <thead>\n",
       "    <tr>\n",
       "      <th id=\"T_6160d_level0_col0\" class=\"col_heading level0 col0\" >ReturnPeriod</th>\n",
       "      <th id=\"T_6160d_level0_col1\" class=\"col_heading level0 col1\" >Gross</th>\n",
       "      <th id=\"T_6160d_level0_col2\" class=\"col_heading level0 col2\" >Net</th>\n",
       "      <th id=\"T_6160d_level0_col3\" class=\"col_heading level0 col3\" >NetRiP</th>\n",
       "      <th id=\"T_6160d_level0_col4\" class=\"col_heading level0 col4\" >NetRIcosts</th>\n",
       "    </tr>\n",
       "  </thead>\n",
       "  <tbody>\n",
       "    <tr>\n",
       "      <td id=\"T_6160d_row0_col0\" class=\"data row0 col0\" >500</td>\n",
       "      <td id=\"T_6160d_row0_col1\" class=\"data row0 col1\" >276,674</td>\n",
       "      <td id=\"T_6160d_row0_col2\" class=\"data row0 col2\" >196,411</td>\n",
       "      <td id=\"T_6160d_row0_col3\" class=\"data row0 col3\" >199,411</td>\n",
       "      <td id=\"T_6160d_row0_col4\" class=\"data row0 col4\" >203,211</td>\n",
       "    </tr>\n",
       "    <tr>\n",
       "      <td id=\"T_6160d_row1_col0\" class=\"data row1 col0\" >250</td>\n",
       "      <td id=\"T_6160d_row1_col1\" class=\"data row1 col1\" >127,284</td>\n",
       "      <td id=\"T_6160d_row1_col2\" class=\"data row1 col2\" >46,064</td>\n",
       "      <td id=\"T_6160d_row1_col3\" class=\"data row1 col3\" >49,064</td>\n",
       "      <td id=\"T_6160d_row1_col4\" class=\"data row1 col4\" >52,864</td>\n",
       "    </tr>\n",
       "    <tr>\n",
       "      <td id=\"T_6160d_row2_col0\" class=\"data row2 col0\" >200</td>\n",
       "      <td id=\"T_6160d_row2_col1\" class=\"data row2 col1\" >104,018</td>\n",
       "      <td id=\"T_6160d_row2_col2\" class=\"data row2 col2\" >34,505</td>\n",
       "      <td id=\"T_6160d_row2_col3\" class=\"data row2 col3\" >36,555</td>\n",
       "      <td id=\"T_6160d_row2_col4\" class=\"data row2 col4\" >40,355</td>\n",
       "    </tr>\n",
       "    <tr>\n",
       "      <td id=\"T_6160d_row3_col0\" class=\"data row3 col0\" >150</td>\n",
       "      <td id=\"T_6160d_row3_col1\" class=\"data row3 col1\" >77,810</td>\n",
       "      <td id=\"T_6160d_row3_col2\" class=\"data row3 col2\" >26,096</td>\n",
       "      <td id=\"T_6160d_row3_col3\" class=\"data row3 col3\" >27,493</td>\n",
       "      <td id=\"T_6160d_row3_col4\" class=\"data row3 col4\" >31,293</td>\n",
       "    </tr>\n",
       "    <tr>\n",
       "      <td id=\"T_6160d_row4_col0\" class=\"data row4 col0\" >100</td>\n",
       "      <td id=\"T_6160d_row4_col1\" class=\"data row4 col1\" >51,611</td>\n",
       "      <td id=\"T_6160d_row4_col2\" class=\"data row4 col2\" >22,352</td>\n",
       "      <td id=\"T_6160d_row4_col3\" class=\"data row4 col3\" >23,954</td>\n",
       "      <td id=\"T_6160d_row4_col4\" class=\"data row4 col4\" >27,754</td>\n",
       "    </tr>\n",
       "    <tr>\n",
       "      <td id=\"T_6160d_row5_col0\" class=\"data row5 col0\" >75</td>\n",
       "      <td id=\"T_6160d_row5_col1\" class=\"data row5 col1\" >38,447</td>\n",
       "      <td id=\"T_6160d_row5_col2\" class=\"data row5 col2\" >21,164</td>\n",
       "      <td id=\"T_6160d_row5_col3\" class=\"data row5 col3\" >23,000</td>\n",
       "      <td id=\"T_6160d_row5_col4\" class=\"data row5 col4\" >26,800</td>\n",
       "    </tr>\n",
       "    <tr>\n",
       "      <td id=\"T_6160d_row6_col0\" class=\"data row6 col0\" >50</td>\n",
       "      <td id=\"T_6160d_row6_col1\" class=\"data row6 col1\" >25,875</td>\n",
       "      <td id=\"T_6160d_row6_col2\" class=\"data row6 col2\" >20,000</td>\n",
       "      <td id=\"T_6160d_row6_col3\" class=\"data row6 col3\" >21,262</td>\n",
       "      <td id=\"T_6160d_row6_col4\" class=\"data row6 col4\" >25,062</td>\n",
       "    </tr>\n",
       "    <tr>\n",
       "      <td id=\"T_6160d_row7_col0\" class=\"data row7 col0\" >25</td>\n",
       "      <td id=\"T_6160d_row7_col1\" class=\"data row7 col1\" >13,450</td>\n",
       "      <td id=\"T_6160d_row7_col2\" class=\"data row7 col2\" >13,450</td>\n",
       "      <td id=\"T_6160d_row7_col3\" class=\"data row7 col3\" >13,450</td>\n",
       "      <td id=\"T_6160d_row7_col4\" class=\"data row7 col4\" >17,250</td>\n",
       "    </tr>\n",
       "    <tr>\n",
       "      <td id=\"T_6160d_row8_col0\" class=\"data row8 col0\" >10</td>\n",
       "      <td id=\"T_6160d_row8_col1\" class=\"data row8 col1\" >5,539</td>\n",
       "      <td id=\"T_6160d_row8_col2\" class=\"data row8 col2\" >5,539</td>\n",
       "      <td id=\"T_6160d_row8_col3\" class=\"data row8 col3\" >5,539</td>\n",
       "      <td id=\"T_6160d_row8_col4\" class=\"data row8 col4\" >9,339</td>\n",
       "    </tr>\n",
       "  </tbody>\n",
       "</table>\n"
      ]
     },
     "metadata": {},
     "output_type": "display_data"
    }
   ],
   "execution_count": 6
  },
  {
   "cell_type": "markdown",
   "id": "d524374b",
   "metadata": {},
   "source": "#### Plot the OEP"
  },
  {
   "cell_type": "code",
   "id": "08675de8",
   "metadata": {
    "ExecuteTime": {
     "end_time": "2025-08-20T18:01:56.782348Z",
     "start_time": "2025-08-20T18:01:56.068046Z"
    }
   },
   "source": [
    "# Make a plot\n",
    "fig, ax = plt.subplots(1)\n",
    "\n",
    "for name, df in [('Gross', yelt), ('Net', retained_yelt), ('Final Net', net_rip_yelt)]:\n",
    "    df.yel.to_ylt(is_occurrence=True).yl.to_ep_curve().plot('Loss', 'ExProb', ax=ax,\n",
    "                                                            label=name)\n",
    "\n",
    "ax.set(xscale='log', yscale='log', ylim=[1e-4, 1], ylabel='Exceedance Probability')\n",
    "plt.title('OEP curves')\n",
    "plt.show()"
   ],
   "outputs": [
    {
     "data": {
      "text/plain": [
       "<Figure size 640x480 with 1 Axes>"
      ],
      "image/png": "[encoded data removed]"
     },
     "metadata": {},
     "output_type": "display_data"
    }
   ],
   "execution_count": 7
  },
  {
   "cell_type": "markdown",
   "id": "01a597bc",
   "metadata": {},
   "source": [
    "Plot AEP"
   ]
  },
  {
   "cell_type": "code",
   "id": "cce2d7da",
   "metadata": {
    "ExecuteTime": {
     "end_time": "2025-08-20T18:01:57.293420Z",
     "start_time": "2025-08-20T18:01:56.803573Z"
    }
   },
   "source": [
    "# Make a plot\n",
    "fig, ax = plt.subplots(1)\n",
    "\n",
    "for name, df in [('Gross', yelt), ('Net', retained_yelt), ('NetRiP', net_rip_yelt)]:\n",
    "    df.yel.to_ylt().yl.to_ep_curve().plot('Loss', 'ExProb', ax=ax, label=name)\n",
    "\n",
    "for name, df in [('NetRIcosts', net_premium_ylt)]:\n",
    "    df.yl.to_ep_curve().plot('Loss', 'ExProb', ax=ax, label=name)\n",
    "\n",
    "for rp in [100, 200, 500]:\n",
    "    ax.plot(ax.get_xlim(), [1 / rp, 1 / rp], '--k', linewidth=0.5)\n",
    "    ax.text(1.75e5, 1 / rp, f\"1:{rp}\")\n",
    "\n",
    "ax.set(yscale='log', ylim=[1e-4, 1], xlim=[0, 0.2e6], ylabel='Exceedance Probability')\n",
    "plt.title('AEP curves')\n",
    "plt.show()"
   ],
   "outputs": [
    {
     "data": {
      "text/plain": [
       "<Figure size 640x480 with 1 Axes>"
      ],
      "image/png": "[encoded data removed]"
     },
     "metadata": {},
     "output_type": "display_data"
    }
   ],
   "execution_count": 8
  },
  {
   "metadata": {},
   "cell_type": "markdown",
   "source": "### Explore how retained losses contribute to the AEP",
   "id": "ea82ba039c5fae70"
  },
  {
   "metadata": {
    "ExecuteTime": {
     "end_time": "2025-08-20T18:01:57.399155Z",
     "start_time": "2025-08-20T18:01:57.301617Z"
    }
   },
   "cell_type": "code",
   "source": [
    "# Split the losses into sections below, above and to the side of the layers\n",
    "prog_attach = min([layer_params[k]['xs'] for k in layer_params])\n",
    "prog_exit = prog_attach + sum([layer_params[k]['limit'] for k in layer_params])\n",
    "\n",
    "yelt_overtop = Layer(xs=prog_exit).ceded_yelt(yelt)\n",
    "yelt_below_attach = Layer(limit=prog_attach).ceded_yelt(retained_yelt)\n",
    "yelt_retained_sideways = retained_yelt.subtract(yelt_overtop).subtract(yelt_below_attach)\n",
    "yelt_retained_sideways = yelt_retained_sideways.loc[yelt_retained_sideways > 0]\n",
    "\n",
    "# Convert into YLT\n",
    "split_ylt = pd.concat([yelt_below_attach, yelt_retained_sideways, yelt_overtop], axis=1,\n",
    "                      keys=['below', 'side', 'overtop']).fillna(0.0).groupby('Year').sum()\n",
    "split_ylt['ExProb'] = retained_yelt.yel.to_ylt().yl.exprob()\n",
    "\n",
    "split_ylt.loc[retained_yelt.yel.to_ylt().sort_values().index]\n",
    "\n"
   ],
   "id": "429dbdba6fef23d1",
   "outputs": [
    {
     "data": {
      "text/plain": [
       "              below  side       overtop   ExProb\n",
       "Year                                            \n",
       "35617   1000.065035   0.0  0.000000e+00  0.39246\n",
       "37523   1000.085121   0.0  0.000000e+00  0.39245\n",
       "32213   1000.090843   0.0  0.000000e+00  0.39244\n",
       "50809   1000.114149   0.0  0.000000e+00  0.39243\n",
       "5440    1000.157586   0.0  0.000000e+00  0.39242\n",
       "...             ...   ...           ...      ...\n",
       "51369  20000.000000   0.0  9.748174e+06  0.00005\n",
       "10432  20000.000000   0.0  1.069823e+07  0.00004\n",
       "54662  20000.000000   0.0  1.195647e+07  0.00003\n",
       "79142  20000.000000   0.0  1.653761e+07  0.00002\n",
       "22644  20000.000000   0.0  3.618133e+07  0.00001\n",
       "\n",
       "[39246 rows x 4 columns]"
      ],
      "text/html": [
       "<div>\n",
       "<style scoped>\n",
       "    .dataframe tbody tr th:only-of-type {\n",
       "        vertical-align: middle;\n",
       "    }\n",
       "\n",
       "    .dataframe tbody tr th {\n",
       "        vertical-align: top;\n",
       "    }\n",
       "\n",
       "    .dataframe thead th {\n",
       "        text-align: right;\n",
       "    }\n",
       "</style>\n",
       "<table border=\"1\" class=\"dataframe\">\n",
       "  <thead>\n",
       "    <tr style=\"text-align: right;\">\n",
       "      <th></th>\n",
       "      <th>below</th>\n",
       "      <th>side</th>\n",
       "      <th>overtop</th>\n",
       "      <th>ExProb</th>\n",
       "    </tr>\n",
       "    <tr>\n",
       "      <th>Year</th>\n",
       "      <th></th>\n",
       "      <th></th>\n",
       "      <th></th>\n",
       "      <th></th>\n",
       "    </tr>\n",
       "  </thead>\n",
       "  <tbody>\n",
       "    <tr>\n",
       "      <th>35617</th>\n",
       "      <td>1000.065035</td>\n",
       "      <td>0.0</td>\n",
       "      <td>0.000000e+00</td>\n",
       "      <td>0.39246</td>\n",
       "    </tr>\n",
       "    <tr>\n",
       "      <th>37523</th>\n",
       "      <td>1000.085121</td>\n",
       "      <td>0.0</td>\n",
       "      <td>0.000000e+00</td>\n",
       "      <td>0.39245</td>\n",
       "    </tr>\n",
       "    <tr>\n",
       "      <th>32213</th>\n",
       "      <td>1000.090843</td>\n",
       "      <td>0.0</td>\n",
       "      <td>0.000000e+00</td>\n",
       "      <td>0.39244</td>\n",
       "    </tr>\n",
       "    <tr>\n",
       "      <th>50809</th>\n",
       "      <td>1000.114149</td>\n",
       "      <td>0.0</td>\n",
       "      <td>0.000000e+00</td>\n",
       "      <td>0.39243</td>\n",
       "    </tr>\n",
       "    <tr>\n",
       "      <th>5440</th>\n",
       "      <td>1000.157586</td>\n",
       "      <td>0.0</td>\n",
       "      <td>0.000000e+00</td>\n",
       "      <td>0.39242</td>\n",
       "    </tr>\n",
       "    <tr>\n",
       "      <th>...</th>\n",
       "      <td>...</td>\n",
       "      <td>...</td>\n",
       "      <td>...</td>\n",
       "      <td>...</td>\n",
       "    </tr>\n",
       "    <tr>\n",
       "      <th>51369</th>\n",
       "      <td>20000.000000</td>\n",
       "      <td>0.0</td>\n",
       "      <td>9.748174e+06</td>\n",
       "      <td>0.00005</td>\n",
       "    </tr>\n",
       "    <tr>\n",
       "      <th>10432</th>\n",
       "      <td>20000.000000</td>\n",
       "      <td>0.0</td>\n",
       "      <td>1.069823e+07</td>\n",
       "      <td>0.00004</td>\n",
       "    </tr>\n",
       "    <tr>\n",
       "      <th>54662</th>\n",
       "      <td>20000.000000</td>\n",
       "      <td>0.0</td>\n",
       "      <td>1.195647e+07</td>\n",
       "      <td>0.00003</td>\n",
       "    </tr>\n",
       "    <tr>\n",
       "      <th>79142</th>\n",
       "      <td>20000.000000</td>\n",
       "      <td>0.0</td>\n",
       "      <td>1.653761e+07</td>\n",
       "      <td>0.00002</td>\n",
       "    </tr>\n",
       "    <tr>\n",
       "      <th>22644</th>\n",
       "      <td>20000.000000</td>\n",
       "      <td>0.0</td>\n",
       "      <td>3.618133e+07</td>\n",
       "      <td>0.00001</td>\n",
       "    </tr>\n",
       "  </tbody>\n",
       "</table>\n",
       "<p>39246 rows × 4 columns</p>\n",
       "</div>"
      ]
     },
     "execution_count": 9,
     "metadata": {},
     "output_type": "execute_result"
    }
   ],
   "execution_count": 9
  },
  {
   "metadata": {
    "ExecuteTime": {
     "end_time": "2025-08-20T18:01:58.317584Z",
     "start_time": "2025-08-20T18:01:57.407989Z"
    }
   },
   "cell_type": "code",
   "source": [
    "# Make a plot\n",
    "fig, ax = plt.subplots(1)\n",
    "\n",
    "split_ylt.set_index('ExProb').sort_index().plot.area(ax=ax, linewidth=0, stacked=True)\n",
    "\n",
    "for rp in [100, 150, 200, 250, 333, 500]:\n",
    "    ax.plot([1 / rp, 1 / rp], ax.get_ylim(), '--k', linewidth=0.5)\n",
    "    ax.text(1 / rp, 1.75e5, f\"1:{rp}\")\n",
    "\n",
    "\n",
    "ax.set(xlim=[1/600, 1/90], ylim=[0, 0.2e6], ylabel='Net Annual Loss')\n",
    "# plt.title('AEP curves')\n",
    "plt.show()"
   ],
   "id": "1dd86f9e66fe3cf6",
   "outputs": [
    {
     "data": {
      "text/plain": [
       "<Figure size 640x480 with 1 Axes>"
      ],
      "image/png": "[encoded data removed]"
     },
     "metadata": {},
     "output_type": "display_data"
    }
   ],
   "execution_count": 10
  },
  {
   "cell_type": "markdown",
   "id": "b798a76a",
   "metadata": {},
   "source": [
    "### Simplified example numbers to show the impact on the cost of capital"
   ]
  },
  {
   "cell_type": "code",
   "id": "172f7a26",
   "metadata": {
    "ExecuteTime": {
     "end_time": "2025-08-20T18:01:58.434286Z",
     "start_time": "2025-08-20T18:01:58.324861Z"
    }
   },
   "source": [
    "benchmark_exprob = 1 / 200.0\n",
    "capital_ratio = 2.0\n",
    "capital_cost_rate = 0.08\n",
    "cost_of_reins = sum([x.premium for x in layers.values()])\n",
    "\n",
    "# Base case with no reinsurance\n",
    "print(\"No reinsurance.\")\n",
    "\n",
    "capital_required = capital_ratio * yelt.yel.to_ylt().yl.loss_at_exprobs(\n",
    "    benchmark_exprob)\n",
    "capital_buffer = capital_required * (capital_ratio - 1) / capital_ratio\n",
    "print(f\"\\tCapital Requirement: {capital_required:,.0f} for a buffer of \" +\n",
    "      f\"{capital_buffer:,.0f} at the 1:{1 / benchmark_exprob:,.0f}\")\n",
    "\n",
    "capital_costs = capital_required * capital_cost_rate\n",
    "print(f\"\\tCosts associated with holding the capital {capital_costs:,.0f}\")\n",
    "\n",
    "peak_loss = capital_required\n",
    "print(\"\\tReturn period for peak loss = \" +\n",
    "      f\"{1 / yelt.yel.to_ylt().yl.loss_exprobs([peak_loss])[0]:,.0f}\")\n",
    "\n",
    "# How reinsuance changes the numbers\n",
    "print(\"Reinsurance + same capital.\")\n",
    "\n",
    "capital_used = net_rip_yelt.yel.to_ylt().yl.loss_at_exprobs(benchmark_exprob)\n",
    "print(f\"\\tNow have buffer of {capital_required - capital_used - cost_of_reins:,.0f}\")\n",
    "\n",
    "print(\"\\tReturn period for peak loss = \" +\n",
    "      f\"{1 / net_rip_yelt.yel.to_ylt().yl.loss_exprobs(peak_loss - cost_of_reins):,.0f}\")\n",
    "\n",
    "print(f\"\\tCost of reins = {cost_of_reins:,.0f}\")\n",
    "print(f\"\\tCost of reins + maintinaing capital = {cost_of_reins + capital_costs:,.0f}\")\n",
    "\n",
    "# If reinsurance is used instead of capital\n",
    "print(\"Reinsurance offsetting capital.\")\n",
    "\n",
    "new_capital_requirement = capital_buffer + capital_used\n",
    "print(f\"\\tNew Capital Requirement: {new_capital_requirement:,.0f} for a buffer of \" +\n",
    "      f\"{capital_buffer:,.0f}\")\n",
    "\n",
    "print(\"\\tReturn period for peak loss = \" +\n",
    "      f\"{1 / net_rip_yelt.yel.to_ylt().yl.loss_exprobs([new_capital_requirement])[0]:,.0f}\")\n",
    "\n",
    "new_peak_loss = net_rip_yelt.yel.to_ylt().yl.loss_at_exprobs(\n",
    "    benchmark_exprob) + capital_buffer\n",
    "\n",
    "new_capital_costs = new_capital_requirement * capital_cost_rate\n",
    "print(\n",
    "    f\"\\tCost of reins + maintinaing capital = {cost_of_reins + new_capital_costs:,.0f}\")\n",
    "\n"
   ],
   "outputs": [
    {
     "name": "stdout",
     "output_type": "stream",
     "text": [
      "No reinsurance.\n",
      "\tCapital Requirement: 208,036 for a buffer of 104,018 at the 1:200\n",
      "\tCosts associated with holding the capital 16,643\n",
      "\tReturn period for peak loss = 388\n",
      "Reinsurance + same capital.\n",
      "\tNow have buffer of 171,481\n",
      "\tReturn period for peak loss = 524\n",
      "\tCost of reins = 0\n",
      "\tCost of reins + maintinaing capital = 16,643\n",
      "Reinsurance offsetting capital.\n",
      "\tNew Capital Requirement: 140,572 for a buffer of 104,018\n",
      "\tReturn period for peak loss = 405\n",
      "\tCost of reins + maintinaing capital = 11,246\n"
     ]
    }
   ],
   "execution_count": 11
  }
 ],
 "metadata": {
  "interpreter": {
   "hash": "47fdc3760ace9dedd6181b3c9679187d644739cae698f056878f8d888561f103"
  },
  "kernelspec": {
   "display_name": "Python 3.10.6 ('venv': venv)",
   "language": "python",
   "name": "python3"
  },
  "language_info": {
   "codemirror_mode": {
    "name": "ipython",
    "version": 3
   },
   "file_extension": ".py",
   "mimetype": "text/x-python",
   "name": "python",
   "nbconvert_exporter": "python",
   "pygments_lexer": "ipython3",
   "version": "3.10.12"
  }
 },
 "nbformat": 4,
 "nbformat_minor": 5
}
