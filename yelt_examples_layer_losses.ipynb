{
 "cells": [
  {
   "cell_type": "markdown",
   "id": "precious-dealing",
   "metadata": {},
   "source": [
    "pandas-ylt\n",
    "==========\n",
    "\n",
    "Python modules for working in pandas with various loss data tables used for CAT modelling\n"
   ]
  },
  {
   "cell_type": "markdown",
   "id": "ea25deed",
   "metadata": {},
   "source": [
    "### Read the example YLT"
   ]
  },
  {
   "cell_type": "code",
   "execution_count": 1,
   "id": "50850bb5",
   "metadata": {},
   "outputs": [
    {
     "data": {
      "text/html": [
       "<style type=\"text/css\">\n",
       "</style>\n",
       "<table id=\"T_62cd7\">\n",
       "  <thead>\n",
       "    <tr>\n",
       "      <th class=\"blank\" >&nbsp;</th>\n",
       "      <th class=\"blank level0\" >&nbsp;</th>\n",
       "      <th id=\"T_62cd7_level0_col0\" class=\"col_heading level0 col0\" >Loss</th>\n",
       "    </tr>\n",
       "    <tr>\n",
       "      <th class=\"index_name level0\" >Metric</th>\n",
       "      <th class=\"index_name level1\" >ReturnPeriod</th>\n",
       "      <th class=\"blank col0\" >&nbsp;</th>\n",
       "    </tr>\n",
       "  </thead>\n",
       "  <tbody>\n",
       "    <tr>\n",
       "      <th id=\"T_62cd7_level0_row0\" class=\"row_heading level0 row0\" rowspan=\"4\">AEP</th>\n",
       "      <th id=\"T_62cd7_level1_row0\" class=\"row_heading level1 row0\" >1000</th>\n",
       "      <td id=\"T_62cd7_row0_col0\" class=\"data row0 col0\" >494,221</td>\n",
       "    </tr>\n",
       "    <tr>\n",
       "      <th id=\"T_62cd7_level1_row1\" class=\"row_heading level1 row1\" >200</th>\n",
       "      <td id=\"T_62cd7_row1_col0\" class=\"data row1 col0\" >104,018</td>\n",
       "    </tr>\n",
       "    <tr>\n",
       "      <th id=\"T_62cd7_level1_row2\" class=\"row_heading level1 row2\" >100</th>\n",
       "      <td id=\"T_62cd7_row2_col0\" class=\"data row2 col0\" >51,611</td>\n",
       "    </tr>\n",
       "    <tr>\n",
       "      <th id=\"T_62cd7_level1_row3\" class=\"row_heading level1 row3\" >10</th>\n",
       "      <td id=\"T_62cd7_row3_col0\" class=\"data row3 col0\" >5,539</td>\n",
       "    </tr>\n",
       "    <tr>\n",
       "      <th id=\"T_62cd7_level0_row4\" class=\"row_heading level0 row4\" rowspan=\"4\">OEP</th>\n",
       "      <th id=\"T_62cd7_level1_row4\" class=\"row_heading level1 row4\" >1000</th>\n",
       "      <td id=\"T_62cd7_row4_col0\" class=\"data row4 col0\" >494,221</td>\n",
       "    </tr>\n",
       "    <tr>\n",
       "      <th id=\"T_62cd7_level1_row5\" class=\"row_heading level1 row5\" >200</th>\n",
       "      <td id=\"T_62cd7_row5_col0\" class=\"data row5 col0\" >101,450</td>\n",
       "    </tr>\n",
       "    <tr>\n",
       "      <th id=\"T_62cd7_level1_row6\" class=\"row_heading level1 row6\" >100</th>\n",
       "      <td id=\"T_62cd7_row6_col0\" class=\"data row6 col0\" >49,340</td>\n",
       "    </tr>\n",
       "    <tr>\n",
       "      <th id=\"T_62cd7_level1_row7\" class=\"row_heading level1 row7\" >10</th>\n",
       "      <td id=\"T_62cd7_row7_col0\" class=\"data row7 col0\" >4,708</td>\n",
       "    </tr>\n",
       "  </tbody>\n",
       "</table>\n"
      ],
      "text/plain": [
       "<pandas.io.formats.style.Styler at 0x7104edff3250>"
      ]
     },
     "metadata": {},
     "output_type": "display_data"
    },
    {
     "data": {
      "text/html": [
       "<style type=\"text/css\">\n",
       "</style>\n",
       "<table id=\"T_73a16\">\n",
       "  <thead>\n",
       "    <tr>\n",
       "      <th class=\"blank level0\" >&nbsp;</th>\n",
       "      <th id=\"T_73a16_level0_col0\" class=\"col_heading level0 col0\" >Loss</th>\n",
       "    </tr>\n",
       "    <tr>\n",
       "      <th class=\"index_name level0\" >Metric</th>\n",
       "      <th class=\"blank col0\" >&nbsp;</th>\n",
       "    </tr>\n",
       "  </thead>\n",
       "  <tbody>\n",
       "    <tr>\n",
       "      <th id=\"T_73a16_level0_row0\" class=\"row_heading level0 row0\" >AAL</th>\n",
       "      <td id=\"T_73a16_row0_col0\" class=\"data row0 col0\" >5,564</td>\n",
       "    </tr>\n",
       "    <tr>\n",
       "      <th id=\"T_73a16_level0_row1\" class=\"row_heading level0 row1\" >STD</th>\n",
       "      <td id=\"T_73a16_row1_col0\" class=\"data row1 col0\" >158,881</td>\n",
       "    </tr>\n",
       "  </tbody>\n",
       "</table>\n"
      ],
      "text/plain": [
       "<pandas.io.formats.style.Styler at 0x7104edff2380>"
      ]
     },
     "metadata": {},
     "output_type": "display_data"
    }
   ],
   "source": [
    "import pandas as pd\n",
    "import matplotlib.pyplot as plt\n",
    "\n",
    "from pandas_ylt.yeareventloss import YearEventLossTable\n",
    "from pandas_ylt.yeareventallocloss import YearEventAllocLossTable\n",
    "# Define the layers\n",
    "from pandas_ylt.layer import Layer\n",
    "\n",
    "\n",
    "yelt = pd.read_csv(\"tests/_data/example_pareto_poisson_yelt.csv\",\n",
    "                    index_col=['Year', 'EventID', 'DayOfYear'])['Loss']\n",
    "yelt.attrs['n_yrs'] = 1e5\n",
    "\n",
    "display(yelt.yel.to_rp_summaries([1000, 200, 100, 10], is_ef=False).to_frame().style.format(\"{:,.0f}\"))\n",
    "display(yelt.yel.to_summary_stats_series().to_frame().style.format(\"{:,.0f}\"))"
   ]
  },
  {
   "cell_type": "markdown",
   "id": "a3c09fe0",
   "metadata": {},
   "source": [
    "### Applying an example reinsurance tower to the losses"
   ]
  },
  {
   "cell_type": "code",
   "execution_count": 2,
   "id": "b97cd028",
   "metadata": {},
   "outputs": [],
   "source": [
    "layers = {\n",
    "    # Layers at 20,000 increments with 1 reinstatement\n",
    "    \"20 xs 20 (1@100)\": Layer(\n",
    "        **{\"limit\": 20000, \"xs\": 20000, \"agg_limit\": 40000.0, \"reinst_rate\": 0.1, \"premium\": 2000}\n",
    "    ),\n",
    "    \"20 xs 40 (1@100)\": Layer(\n",
    "        **{\"limit\": 20000, \"xs\": 40000, \"agg_limit\": 40000.0, \"reinst_rate\": 0.05, \"premium\": 1000}\n",
    "    ),\n",
    "    \"20 xs 60 (1@100)\": Layer(\n",
    "        **{\"limit\": 20000, \"xs\": 60000, \"agg_limit\": 40000.0, \"reinst_rate\": 0.02, 'premium': 400}\n",
    "    ),\n",
    "    \"20 xs 80 (1@0)\": Layer(\n",
    "        **{\"limit\": 20000, \"xs\": 80000, \"agg_limit\": 40000.0, \"reinst_rate\": 0.0, \"premium\": 400}\n",
    "    ),\n",
    "}"
   ]
  },
  {
   "cell_type": "markdown",
   "id": "e0fdd5b6",
   "metadata": {},
   "source": [
    "Get the summary stats for each layer"
   ]
  },
  {
   "cell_type": "code",
   "execution_count": 3,
   "id": "4e938a3b",
   "metadata": {},
   "outputs": [
    {
     "name": "stderr",
     "output_type": "stream",
     "text": [
      "/tmp/ipykernel_6410/1661765216.py:12: RuntimeWarning: divide by zero encountered in scalar divide\n",
      "  'ExhaustRP': 1 / yelt.yel.to_ylt().yl.loss_exprobs([layers[k].agg_limit])[0],\n"
     ]
    },
    {
     "data": {
      "text/html": [
       "<style type=\"text/css\">\n",
       "</style>\n",
       "<table id=\"T_57238\">\n",
       "  <thead>\n",
       "    <tr>\n",
       "      <th class=\"blank level0\" >&nbsp;</th>\n",
       "      <th id=\"T_57238_level0_col0\" class=\"col_heading level0 col0\" >AAL</th>\n",
       "      <th id=\"T_57238_level0_col1\" class=\"col_heading level0 col1\" >STD</th>\n",
       "      <th id=\"T_57238_level0_col2\" class=\"col_heading level0 col2\" >ExpReinst</th>\n",
       "      <th id=\"T_57238_level0_col3\" class=\"col_heading level0 col3\" >AttachRP</th>\n",
       "      <th id=\"T_57238_level0_col4\" class=\"col_heading level0 col4\" >FullLimitRP</th>\n",
       "      <th id=\"T_57238_level0_col5\" class=\"col_heading level0 col5\" >ExhaustRP</th>\n",
       "    </tr>\n",
       "  </thead>\n",
       "  <tbody>\n",
       "    <tr>\n",
       "      <th id=\"T_57238_level0_row0\" class=\"row_heading level0 row0\" >20 xs 20 (1@100)</th>\n",
       "      <td id=\"T_57238_row0_col0\" class=\"data row0 col0\" >336</td>\n",
       "      <td id=\"T_57238_row0_col1\" class=\"data row0 col1\" >2,439</td>\n",
       "      <td id=\"T_57238_row0_col2\" class=\"data row0 col2\" >33.4</td>\n",
       "      <td id=\"T_57238_row0_col3\" class=\"data row0 col3\" >41</td>\n",
       "      <td id=\"T_57238_row0_col4\" class=\"data row0 col4\" >82</td>\n",
       "      <td id=\"T_57238_row0_col5\" class=\"data row0 col5\" >16,667</td>\n",
       "    </tr>\n",
       "    <tr>\n",
       "      <th id=\"T_57238_level0_row1\" class=\"row_heading level0 row1\" >20 xs 40 (1@100)</th>\n",
       "      <td id=\"T_57238_row1_col0\" class=\"data row1 col0\" >201</td>\n",
       "      <td id=\"T_57238_row1_col1\" class=\"data row1 col1\" >1,934</td>\n",
       "      <td id=\"T_57238_row1_col2\" class=\"data row1 col2\" >10.0</td>\n",
       "      <td id=\"T_57238_row1_col3\" class=\"data row1 col3\" >82</td>\n",
       "      <td id=\"T_57238_row1_col4\" class=\"data row1 col4\" >121</td>\n",
       "      <td id=\"T_57238_row1_col5\" class=\"data row1 col5\" >50,000</td>\n",
       "    </tr>\n",
       "    <tr>\n",
       "      <th id=\"T_57238_level0_row2\" class=\"row_heading level0 row2\" >20 xs 60 (1@100)</th>\n",
       "      <td id=\"T_57238_row2_col0\" class=\"data row2 col0\" >144</td>\n",
       "      <td id=\"T_57238_row2_col1\" class=\"data row2 col1\" >1,656</td>\n",
       "      <td id=\"T_57238_row2_col2\" class=\"data row2 col2\" >2.9</td>\n",
       "      <td id=\"T_57238_row2_col3\" class=\"data row2 col3\" >121</td>\n",
       "      <td id=\"T_57238_row2_col4\" class=\"data row2 col4\" >161</td>\n",
       "      <td id=\"T_57238_row2_col5\" class=\"data row2 col5\" >100,000</td>\n",
       "    </tr>\n",
       "    <tr>\n",
       "      <th id=\"T_57238_level0_row3\" class=\"row_heading level0 row3\" >20 xs 80 (1@0)</th>\n",
       "      <td id=\"T_57238_row3_col0\" class=\"data row3 col0\" >114</td>\n",
       "      <td id=\"T_57238_row3_col1\" class=\"data row3 col1\" >1,482</td>\n",
       "      <td id=\"T_57238_row3_col2\" class=\"data row3 col2\" >0.0</td>\n",
       "      <td id=\"T_57238_row3_col3\" class=\"data row3 col3\" >161</td>\n",
       "      <td id=\"T_57238_row3_col4\" class=\"data row3 col4\" >196</td>\n",
       "      <td id=\"T_57238_row3_col5\" class=\"data row3 col5\" >inf</td>\n",
       "    </tr>\n",
       "  </tbody>\n",
       "</table>\n"
      ],
      "text/plain": [
       "<pandas.io.formats.style.Styler at 0x7104ed7aa830>"
      ]
     },
     "execution_count": 3,
     "metadata": {},
     "output_type": "execute_result"
    }
   ],
   "source": [
    "# Get a separate YLT for each layer\n",
    "lyr_yelts = {lyr: layers[lyr].yelt_loss(yelt) for lyr in layers}\n",
    "# lyr_yelts\n",
    "\n",
    "# Calculate the layer stats from the YLTs\n",
    "summary_stats = {k: \n",
    " {'AAL': yelt.yel.aal, \n",
    "  'STD': yelt.yel.to_ylt().yl.std(),\n",
    "  'ExpReinst': yelt.yel.to_ylt().clip(upper=(layers[k].max_reinstated_limit)).yl.aal * layers[k].reinst_rate,\n",
    "  'AttachRP': 1 / yelt.yel.to_ylt().yl.prob_of_a_loss,\n",
    "  'FullLimitRP': 1 / yelt.yel.to_ylt(is_occurrence=True).yl.loss_exprobs([layers[k].limit])[0],\n",
    "  'ExhaustRP': 1 / yelt.yel.to_ylt().yl.loss_exprobs([layers[k].agg_limit])[0],\n",
    " }\n",
    "  for k, yelt in lyr_yelts.items()}\n",
    "\n",
    "# Display the results\n",
    "pd.DataFrame(summary_stats).T.style.format({\"AAL\": \"{:,.0f}\", 'STD': '{:,.0f}', \n",
    "                                            'ExpReinst': '{:.1f}', \n",
    "                                            'AttachRP': \"{:,.0f}\",\n",
    "                                            'FullLimitRP': \"{:,.0f}\",\n",
    "                                            'ExhaustRP': \"{:,.0f}\",            \n",
    "                                            })"
   ]
  },
  {
   "cell_type": "markdown",
   "id": "f0cbac52",
   "metadata": {},
   "source": [
    "Calculate the YLTs net of reinstatement costs. The AAL to the layer is reduced because reinst premiums offset the loss."
   ]
  },
  {
   "cell_type": "code",
   "execution_count": 4,
   "id": "8972e5c1",
   "metadata": {},
   "outputs": [
    {
     "data": {
      "text/html": [
       "<style type=\"text/css\">\n",
       "</style>\n",
       "<table id=\"T_df2a7\">\n",
       "  <thead>\n",
       "    <tr>\n",
       "      <th class=\"blank level0\" >&nbsp;</th>\n",
       "      <th id=\"T_df2a7_level0_col0\" class=\"col_heading level0 col0\" >AAL</th>\n",
       "      <th id=\"T_df2a7_level0_col1\" class=\"col_heading level0 col1\" >STD</th>\n",
       "    </tr>\n",
       "  </thead>\n",
       "  <tbody>\n",
       "    <tr>\n",
       "      <th id=\"T_df2a7_level0_row0\" class=\"row_heading level0 row0\" >20 xs 20 (1@100)</th>\n",
       "      <td id=\"T_df2a7_row0_col0\" class=\"data row0 col0\" >303</td>\n",
       "      <td id=\"T_df2a7_row0_col1\" class=\"data row0 col1\" >2,198</td>\n",
       "    </tr>\n",
       "    <tr>\n",
       "      <th id=\"T_df2a7_level0_row1\" class=\"row_heading level0 row1\" >20 xs 40 (1@100)</th>\n",
       "      <td id=\"T_df2a7_row1_col0\" class=\"data row1 col0\" >191</td>\n",
       "      <td id=\"T_df2a7_row1_col1\" class=\"data row1 col1\" >1,838</td>\n",
       "    </tr>\n",
       "    <tr>\n",
       "      <th id=\"T_df2a7_level0_row2\" class=\"row_heading level0 row2\" >20 xs 60 (1@100)</th>\n",
       "      <td id=\"T_df2a7_row2_col0\" class=\"data row2 col0\" >141</td>\n",
       "      <td id=\"T_df2a7_row2_col1\" class=\"data row2 col1\" >1,623</td>\n",
       "    </tr>\n",
       "    <tr>\n",
       "      <th id=\"T_df2a7_level0_row3\" class=\"row_heading level0 row3\" >20 xs 80 (1@0)</th>\n",
       "      <td id=\"T_df2a7_row3_col0\" class=\"data row3 col0\" >114</td>\n",
       "      <td id=\"T_df2a7_row3_col1\" class=\"data row3 col1\" >1,482</td>\n",
       "    </tr>\n",
       "  </tbody>\n",
       "</table>\n"
      ],
      "text/plain": [
       "<pandas.io.formats.style.Styler at 0x7104edff3580>"
      ]
     },
     "execution_count": 4,
     "metadata": {},
     "output_type": "execute_result"
    }
   ],
   "source": [
    "lyr_yelts_net_rip = {lyr: layers[lyr].yelt_loss(yelt, net_reinst=True) for lyr in layers}\n",
    "summary_stats = {k: \n",
    " {'AAL': yelt.yel.aal, \n",
    "  'STD': yelt.yel.to_ylt().yl.std(),\n",
    " }\n",
    "  for k, yelt in lyr_yelts_net_rip.items()}\n",
    "\n",
    "# Display the results\n",
    "pd.DataFrame(summary_stats).T.style.format({\"AAL\": \"{:,.0f}\", 'STD': '{:,.0f}',})"
   ]
  },
  {
   "cell_type": "markdown",
   "id": "98b98652",
   "metadata": {},
   "source": [
    "Get the net and final net EP curve"
   ]
  },
  {
   "cell_type": "code",
   "execution_count": 5,
   "id": "cb96d6a6",
   "metadata": {},
   "outputs": [
    {
     "data": {
      "text/html": [
       "<style type=\"text/css\">\n",
       "</style>\n",
       "<table id=\"T_7889b\">\n",
       "  <thead>\n",
       "    <tr>\n",
       "      <th class=\"blank level0\" >&nbsp;</th>\n",
       "      <th id=\"T_7889b_level0_col0\" class=\"col_heading level0 col0\" >Gross</th>\n",
       "      <th id=\"T_7889b_level0_col1\" class=\"col_heading level0 col1\" >Net</th>\n",
       "      <th id=\"T_7889b_level0_col2\" class=\"col_heading level0 col2\" >Final Net</th>\n",
       "    </tr>\n",
       "    <tr>\n",
       "      <th class=\"index_name level0\" >ReturnPeriod</th>\n",
       "      <th class=\"blank col0\" >&nbsp;</th>\n",
       "      <th class=\"blank col1\" >&nbsp;</th>\n",
       "      <th class=\"blank col2\" >&nbsp;</th>\n",
       "    </tr>\n",
       "  </thead>\n",
       "  <tbody>\n",
       "    <tr>\n",
       "      <th id=\"T_7889b_level0_row0\" class=\"row_heading level0 row0\" >250</th>\n",
       "      <td id=\"T_7889b_row0_col0\" class=\"data row0 col0\" >123,967</td>\n",
       "      <td id=\"T_7889b_row0_col1\" class=\"data row0 col1\" >43,967</td>\n",
       "      <td id=\"T_7889b_row0_col2\" class=\"data row0 col2\" >47,367</td>\n",
       "    </tr>\n",
       "    <tr>\n",
       "      <th id=\"T_7889b_level0_row1\" class=\"row_heading level0 row1\" >200</th>\n",
       "      <td id=\"T_7889b_row1_col0\" class=\"data row1 col0\" >101,450</td>\n",
       "      <td id=\"T_7889b_row1_col1\" class=\"data row1 col1\" >21,450</td>\n",
       "      <td id=\"T_7889b_row1_col2\" class=\"data row1 col2\" >24,850</td>\n",
       "    </tr>\n",
       "    <tr>\n",
       "      <th id=\"T_7889b_level0_row2\" class=\"row_heading level0 row2\" >150</th>\n",
       "      <td id=\"T_7889b_row2_col0\" class=\"data row2 col0\" >75,760</td>\n",
       "      <td id=\"T_7889b_row2_col1\" class=\"data row2 col1\" >20,000</td>\n",
       "      <td id=\"T_7889b_row2_col2\" class=\"data row2 col2\" >23,311</td>\n",
       "    </tr>\n",
       "    <tr>\n",
       "      <th id=\"T_7889b_level0_row3\" class=\"row_heading level0 row3\" >100</th>\n",
       "      <td id=\"T_7889b_row3_col0\" class=\"data row3 col0\" >49,340</td>\n",
       "      <td id=\"T_7889b_row3_col1\" class=\"data row3 col1\" >20,000</td>\n",
       "      <td id=\"T_7889b_row3_col2\" class=\"data row3 col2\" >22,449</td>\n",
       "    </tr>\n",
       "    <tr>\n",
       "      <th id=\"T_7889b_level0_row4\" class=\"row_heading level0 row4\" >75</th>\n",
       "      <td id=\"T_7889b_row4_col0\" class=\"data row4 col0\" >36,257</td>\n",
       "      <td id=\"T_7889b_row4_col1\" class=\"data row4 col1\" >20,000</td>\n",
       "      <td id=\"T_7889b_row4_col2\" class=\"data row4 col2\" >21,616</td>\n",
       "    </tr>\n",
       "    <tr>\n",
       "      <th id=\"T_7889b_level0_row5\" class=\"row_heading level0 row5\" >50</th>\n",
       "      <td id=\"T_7889b_row5_col0\" class=\"data row5 col0\" >24,074</td>\n",
       "      <td id=\"T_7889b_row5_col1\" class=\"data row5 col1\" >20,000</td>\n",
       "      <td id=\"T_7889b_row5_col2\" class=\"data row5 col2\" >20,407</td>\n",
       "    </tr>\n",
       "    <tr>\n",
       "      <th id=\"T_7889b_level0_row6\" class=\"row_heading level0 row6\" >25</th>\n",
       "      <td id=\"T_7889b_row6_col0\" class=\"data row6 col0\" >12,135</td>\n",
       "      <td id=\"T_7889b_row6_col1\" class=\"data row6 col1\" >12,135</td>\n",
       "      <td id=\"T_7889b_row6_col2\" class=\"data row6 col2\" >12,135</td>\n",
       "    </tr>\n",
       "    <tr>\n",
       "      <th id=\"T_7889b_level0_row7\" class=\"row_heading level0 row7\" >10</th>\n",
       "      <td id=\"T_7889b_row7_col0\" class=\"data row7 col0\" >4,708</td>\n",
       "      <td id=\"T_7889b_row7_col1\" class=\"data row7 col1\" >4,708</td>\n",
       "      <td id=\"T_7889b_row7_col2\" class=\"data row7 col2\" >4,708</td>\n",
       "    </tr>\n",
       "  </tbody>\n",
       "</table>\n"
      ],
      "text/plain": [
       "<pandas.io.formats.style.Styler at 0x710528256860>"
      ]
     },
     "metadata": {},
     "output_type": "display_data"
    }
   ],
   "source": [
    "retained_yelt = yelt.subtract(pd.concat(lyr_yelts.values()).groupby(yelt.index.names).sum(), fill_value=0.0)\n",
    "net_rip_yelt = yelt.subtract(pd.concat(lyr_yelts_net_rip.values()).groupby(yelt.index.names).sum(), fill_value=0.0)\n",
    "\n",
    "combined_rp_curves = pd.concat([\n",
    "    df.yel.to_rp_summary([250, 200, 150, 100, 75, 50, 25, 10], is_ep=True, is_occurrence=True).rename(name)\n",
    "    for name, df in [('Gross', yelt), ('Net', retained_yelt), ('Final Net', net_rip_yelt)]\n",
    "], axis=1)\n",
    "\n",
    "\n",
    "display(combined_rp_curves.style.format(\"{:,.0f}\"))\n",
    "# display(retained_yelt.yel.to_summary_stats_series().to_frame().style.format(\"{:,.0f}\"))"
   ]
  },
  {
   "cell_type": "markdown",
   "id": "d524374b",
   "metadata": {},
   "source": [
    "Plot the OEP"
   ]
  },
  {
   "cell_type": "code",
   "execution_count": 6,
   "id": "08675de8",
   "metadata": {},
   "outputs": [
    {
     "data": {
      "image/png": "[encoded data removed]",
      "text/plain": [
       "<Figure size 640x480 with 1 Axes>"
      ]
     },
     "metadata": {},
     "output_type": "display_data"
    }
   ],
   "source": [
    "# Make a plot\n",
    "fig, ax = plt.subplots(1)\n",
    "\n",
    "for name, df in [('Gross', yelt), ('Net', retained_yelt), ('Final Net', net_rip_yelt)]:\n",
    "    df.yel.to_ylt(is_occurrence=True).yl.to_ep_curve().plot('Loss', 'ExProb', ax=ax, label=name)\n",
    "\n",
    "ax.set(xscale='log', yscale='log', ylim=[1e-4, 1], ylabel='Exceedance Probability')\n",
    "plt.title('OEP curves')\n",
    "plt.show()"
   ]
  },
  {
   "cell_type": "markdown",
   "id": "01a597bc",
   "metadata": {},
   "source": [
    "Plot AEP"
   ]
  },
  {
   "cell_type": "code",
   "execution_count": 7,
   "id": "cce2d7da",
   "metadata": {},
   "outputs": [
    {
     "data": {
      "image/png": "[encoded data removed]",
      "text/plain": [
       "<Figure size 640x480 with 1 Axes>"
      ]
     },
     "metadata": {},
     "output_type": "display_data"
    }
   ],
   "source": [
    "# Make a plot\n",
    "fig, ax = plt.subplots(1)\n",
    "\n",
    "for name, df in [('Gross', yelt), ('Net', retained_yelt), ('Final Net', net_rip_yelt)]:\n",
    "    df.yel.to_ylt().yl.to_ep_curve().plot('Loss', 'ExProb', ax=ax, label=name)\n",
    "\n",
    "for rp in [100, 200, 500]:\n",
    "    ax.plot(ax.get_xlim(), [1/rp, 1/rp], '--k', linewidth=0.5)\n",
    "    ax.text(1.75e5, 1/rp, f\"1:{rp}\")\n",
    "\n",
    "ax.set( yscale='log', ylim=[1e-4, 1], xlim=[0, 0.2e6], ylabel='Exceedance Probability')\n",
    "plt.title('AEP curves')\n",
    "plt.show()"
   ]
  },
  {
   "cell_type": "markdown",
   "id": "b798a76a",
   "metadata": {},
   "source": [
    "### Some example numbers to show the impact on the cost of capital"
   ]
  },
  {
   "cell_type": "code",
   "execution_count": 8,
   "id": "172f7a26",
   "metadata": {},
   "outputs": [
    {
     "name": "stdout",
     "output_type": "stream",
     "text": [
      "No reinsurance.\n",
      "\tCost of capital = 16,000\n",
      "\tReturn period for peak loss = 379\n",
      "\tRemainder at 1:200 = 95,982\n",
      "Reinsurance + same capital.\n",
      "\tCost of reins = 3,800\n",
      "\tCost of capital = 15,696\n",
      "\tReturn period for peak loss = 498\n",
      "\tRemainder at 1:200 = 163,301\n",
      "Reinsurance offsetting capital.\n",
      "\tCost of reins = 3,800\n",
      "\tCost of capital = 7,679\n",
      "\tReturn period for peak loss = 391\n",
      "\tRemainder at 1:200 = 95,982\n"
     ]
    }
   ],
   "source": [
    "total_capital = 200e3\n",
    "capital_cost_rate = 0.08\n",
    "capital_needed_from = yelt.yel.to_ylt().yl.loss_at_exprobs([0.5])[0]\n",
    "cost_of_reins = sum([x.premium for x in layers.values()])\n",
    "\n",
    "# Base case with no reinsurance\n",
    "print(\"No reinsurance.\")\n",
    "print(f\"\\tCost of capital = {capital_cost_rate * total_capital:,.0f}\")\n",
    "\n",
    "peak_loss = total_capital + capital_needed_from\n",
    "print(\"\\tReturn period for peak loss = \" + \n",
    "      f\"{1 / yelt.yel.to_ylt().yl.loss_exprobs([peak_loss])[0]:,.0f}\")\n",
    "\n",
    "capital_buffer = peak_loss - yelt.yel.to_ylt().yl.loss_at_exprobs([1/200])[0]\n",
    "print(\"\\tRemainder at 1:200 = \" + \n",
    "      f\"{capital_buffer:,.0f}\")\n",
    "\n",
    "# How reinsuance changes the numbers\n",
    "print(\"Reinsurance + same capital.\")\n",
    "print(f\"\\tCost of reins = {cost_of_reins:,.0f}\")\n",
    "print(f\"\\tCost of capital = {capital_cost_rate * (total_capital - cost_of_reins):,.0f}\")\n",
    "print(\"\\tReturn period for peak loss = \" + \n",
    "      f\"{1 / net_rip_yelt.yel.to_ylt().yl.loss_exprobs([peak_loss - cost_of_reins])[0]:,.0f}\")\n",
    "print(\"\\tRemainder at 1:200 = \" + \n",
    "      f\"{peak_loss - net_rip_yelt.yel.to_ylt().yl.loss_at_exprobs([1/200])[0]:,.0f}\")\n",
    "\n",
    "# If reinsurance is used instead of capital\n",
    "print(\"Reinsurance offsetting capital.\")\n",
    "print(f\"\\tCost of reins = {cost_of_reins:,.0f}\")\n",
    "\n",
    "new_capital = capital_buffer\n",
    "new_peak_loss = net_rip_yelt.yel.to_ylt().yl.loss_at_exprobs([1/200])[0] + capital_buffer\n",
    "\n",
    "print(f\"\\tCost of capital = {capital_cost_rate * new_capital:,.0f}\")\n",
    "\n",
    "print(\"\\tReturn period for peak loss = \" + \n",
    "      f\"{1 / net_rip_yelt.yel.to_ylt().yl.loss_exprobs([new_peak_loss])[0]:,.0f}\")\n",
    "print(\"\\tRemainder at 1:200 = \" + \n",
    "      f\"{new_peak_loss - net_rip_yelt.yel.to_ylt().yl.loss_at_exprobs([1/200])[0]:,.0f}\")\n"
   ]
  },
  {
   "cell_type": "markdown",
   "id": "d8ebd10d",
   "metadata": {},
   "source": [
    "### Define some layers"
   ]
  },
  {
   "cell_type": "code",
   "execution_count": 9,
   "id": "6aee07c8",
   "metadata": {},
   "outputs": [],
   "source": [
    "\n",
    "\n",
    "\n",
    "layers = [\n",
    "    # First loss\n",
    "    {'name': '20 xs 0', 'layer': Layer(**{'limit': 20000, 'xs': 0, 'agg_limit': 20000.0})},    \n",
    "    {'name': '20 xs 20', 'layer': Layer(**{'limit': 20000, 'xs': 20000, 'agg_limit': 20000.0})},\n",
    "    {'name': '20 xs 40', 'layer': Layer(**{'limit': 20000, 'xs': 40000, 'agg_limit': 20000.0})},\n",
    "    {'name': '20 xs 60', 'layer': Layer(**{'limit': 20000, 'xs': 60000, 'agg_limit': 20000.0})},    \n",
    "    {'name': '20 xs 80', 'layer': Layer(**{'limit': 20000, 'xs': 80000, 'agg_limit': 20000.0})},    \n",
    "    # Second loss\n",
    "    {'name': '20 xs 0 reinst', 'layer': Layer(**{'limit': 20000, 'xs': 0, 'agg_limit': 20000.0, 'agg_xs': 20000.0})},        \n",
    "    {'name': '20 xs 20 reinst', 'layer': Layer(**{'limit': 20000, 'xs': 20000, 'agg_limit': 20000.0, 'agg_xs': 20000.0})},\n",
    "    {'name': '20 xs 40 reinst', 'layer': Layer(**{'limit': 20000, 'xs': 40000, 'agg_limit': 20000.0, 'agg_xs': 20000.0})},\n",
    "    {'name': '20 xs 60 reinst', 'layer': Layer(**{'limit': 20000, 'xs': 60000, 'agg_limit': 20000.0, 'agg_xs': 20000.0})}, \n",
    "    {'name': '20 xs 80 reinst', 'layer': Layer(**{'limit': 20000, 'xs': 80000, 'agg_limit': 20000.0, 'agg_xs': 20000.0})}, \n",
    "]\n",
    "\n"
   ]
  }
 ],
 "metadata": {
  "interpreter": {
   "hash": "47fdc3760ace9dedd6181b3c9679187d644739cae698f056878f8d888561f103"
  },
  "kernelspec": {
   "display_name": "Python 3.10.6 ('venv': venv)",
   "language": "python",
   "name": "python3"
  },
  "language_info": {
   "codemirror_mode": {
    "name": "ipython",
    "version": 3
   },
   "file_extension": ".py",
   "mimetype": "text/x-python",
   "name": "python",
   "nbconvert_exporter": "python",
   "pygments_lexer": "ipython3",
   "version": "3.10.12"
  }
 },
 "nbformat": 4,
 "nbformat_minor": 5
}
