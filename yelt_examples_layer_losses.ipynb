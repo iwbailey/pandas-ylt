{
 "cells": [
  {
   "cell_type": "markdown",
   "id": "precious-dealing",
   "metadata": {},
   "source": [
    "pandas-ylt\n",
    "==========\n",
    "\n",
    "Python modules for working in pandas with various loss data tables used for CAT modelling\n"
   ]
  },
  {
   "cell_type": "markdown",
   "id": "ea25deed",
   "metadata": {},
   "source": [
    "### Read the example YLT"
   ]
  },
  {
   "cell_type": "code",
   "execution_count": 1,
   "id": "50850bb5",
   "metadata": {},
   "outputs": [
    {
     "data": {
      "text/html": [
       "<style type=\"text/css\">\n",
       "</style>\n",
       "<table id=\"T_edf8f\">\n",
       "  <thead>\n",
       "    <tr>\n",
       "      <th class=\"index_name level0\" >CurveType</th>\n",
       "      <th id=\"T_edf8f_level0_col0\" class=\"col_heading level0 col0\" >LossAEP</th>\n",
       "      <th id=\"T_edf8f_level0_col1\" class=\"col_heading level0 col1\" >LossOEP</th>\n",
       "    </tr>\n",
       "    <tr>\n",
       "      <th class=\"index_name level0\" >ReturnPeriod</th>\n",
       "      <th class=\"blank col0\" >&nbsp;</th>\n",
       "      <th class=\"blank col1\" >&nbsp;</th>\n",
       "    </tr>\n",
       "  </thead>\n",
       "  <tbody>\n",
       "    <tr>\n",
       "      <th id=\"T_edf8f_level0_row0\" class=\"row_heading level0 row0\" >200</th>\n",
       "      <td id=\"T_edf8f_row0_col0\" class=\"data row0 col0\" >104,018</td>\n",
       "      <td id=\"T_edf8f_row0_col1\" class=\"data row0 col1\" >101,450</td>\n",
       "    </tr>\n",
       "    <tr>\n",
       "      <th id=\"T_edf8f_level0_row1\" class=\"row_heading level0 row1\" >100</th>\n",
       "      <td id=\"T_edf8f_row1_col0\" class=\"data row1 col0\" >51,611</td>\n",
       "      <td id=\"T_edf8f_row1_col1\" class=\"data row1 col1\" >49,340</td>\n",
       "    </tr>\n",
       "    <tr>\n",
       "      <th id=\"T_edf8f_level0_row2\" class=\"row_heading level0 row2\" >10</th>\n",
       "      <td id=\"T_edf8f_row2_col0\" class=\"data row2 col0\" >5,539</td>\n",
       "      <td id=\"T_edf8f_row2_col1\" class=\"data row2 col1\" >4,708</td>\n",
       "    </tr>\n",
       "  </tbody>\n",
       "</table>\n"
      ],
      "text/plain": [
       "<pandas.io.formats.style.Styler at 0x733fb4983880>"
      ]
     },
     "metadata": {},
     "output_type": "display_data"
    },
    {
     "data": {
      "text/html": [
       "<style type=\"text/css\">\n",
       "</style>\n",
       "<table id=\"T_a9d1b\">\n",
       "  <thead>\n",
       "    <tr>\n",
       "      <th class=\"blank level0\" >&nbsp;</th>\n",
       "      <th id=\"T_a9d1b_level0_col0\" class=\"col_heading level0 col0\" ></th>\n",
       "    </tr>\n",
       "  </thead>\n",
       "  <tbody>\n",
       "    <tr>\n",
       "      <th id=\"T_a9d1b_level0_row0\" class=\"row_heading level0 row0\" >AAL</th>\n",
       "      <td id=\"T_a9d1b_row0_col0\" class=\"data row0 col0\" >5,564</td>\n",
       "    </tr>\n",
       "    <tr>\n",
       "      <th id=\"T_a9d1b_level0_row1\" class=\"row_heading level0 row1\" >STD</th>\n",
       "      <td id=\"T_a9d1b_row1_col0\" class=\"data row1 col0\" >158,881</td>\n",
       "    </tr>\n",
       "  </tbody>\n",
       "</table>\n"
      ],
      "text/plain": [
       "<pandas.io.formats.style.Styler at 0x733fb4983400>"
      ]
     },
     "metadata": {},
     "output_type": "display_data"
    }
   ],
   "source": [
    "import pandas as pd\n",
    "from pandas_ylt.yeareventloss import YearEventLossTable\n",
    "from pandas_ylt.yeareventallocloss import YearEventAllocLossTable\n",
    "\n",
    "\n",
    "yelt = pd.read_csv(\"tests/_data/example_pareto_poisson_yelt.csv\",\n",
    "                    index_col=['Year', 'EventID', 'DayOfYear'])['Loss']\n",
    "yelt.attrs['n_yrs'] = 1e5\n",
    "\n",
    "display(yelt.yel.to_ep_summaries([200, 100, 10]).style.format(\"{:,.0f}\"))\n",
    "display(yelt.yel.to_aal_series().to_frame().style.format(\"{:,.0f}\"))"
   ]
  },
  {
   "cell_type": "markdown",
   "id": "d8ebd10d",
   "metadata": {},
   "source": [
    "### Define some layers"
   ]
  },
  {
   "cell_type": "code",
   "execution_count": 2,
   "id": "6aee07c8",
   "metadata": {},
   "outputs": [],
   "source": [
    "# Define the layers\n",
    "from pandas_ylt.layer import Layer\n",
    "\n",
    "\n",
    "layers = [\n",
    "    # First loss\n",
    "    {'name': '20 xs 0', 'layer': Layer(**{'limit': 20000, 'xs': 0, 'agg_limit': 20000.0})},    \n",
    "    {'name': '20 xs 20', 'layer': Layer(**{'limit': 20000, 'xs': 20000, 'agg_limit': 20000.0})},\n",
    "    {'name': '20 xs 40', 'layer': Layer(**{'limit': 20000, 'xs': 40000, 'agg_limit': 20000.0})},\n",
    "    {'name': '20 xs 60', 'layer': Layer(**{'limit': 20000, 'xs': 60000, 'agg_limit': 20000.0})},    \n",
    "    {'name': '20 xs 80', 'layer': Layer(**{'limit': 20000, 'xs': 80000, 'agg_limit': 20000.0})},    \n",
    "    # Second loss\n",
    "    {'name': '20 xs 0 reinst', 'layer': Layer(**{'limit': 20000, 'xs': 0, 'agg_limit': 20000.0, 'agg_xs': 20000.0})},        \n",
    "    {'name': '20 xs 20 reinst', 'layer': Layer(**{'limit': 20000, 'xs': 20000, 'agg_limit': 20000.0, 'agg_xs': 20000.0})},\n",
    "    {'name': '20 xs 40 reinst', 'layer': Layer(**{'limit': 20000, 'xs': 40000, 'agg_limit': 20000.0, 'agg_xs': 20000.0})},\n",
    "    {'name': '20 xs 60 reinst', 'layer': Layer(**{'limit': 20000, 'xs': 60000, 'agg_limit': 20000.0, 'agg_xs': 20000.0})}, \n",
    "    {'name': '20 xs 80 reinst', 'layer': Layer(**{'limit': 20000, 'xs': 80000, 'agg_limit': 20000.0, 'agg_xs': 20000.0})}, \n",
    "]\n",
    "\n"
   ]
  },
  {
   "cell_type": "markdown",
   "id": "cc3b48f2",
   "metadata": {},
   "source": [
    "### Calculate the layer loss"
   ]
  },
  {
   "cell_type": "code",
   "execution_count": 3,
   "id": "23a3a07b",
   "metadata": {},
   "outputs": [
    {
     "data": {
      "text/plain": [
       "Layer            Year   EventID  DayOfYear\n",
       "20 xs 0          698    23302    1            17373.822263\n",
       "                 1019   30835    1             3473.484522\n",
       "                 1162   13431    1            20000.000000\n",
       "                 2322   18394    1            17957.088848\n",
       "                 2925   38164    1             1122.213901\n",
       "                                                  ...     \n",
       "20 xs 40 reinst  85576  6288     353           6353.328397\n",
       "                 72621  21042    365          11313.472407\n",
       "20 xs 60 reinst  26941  5978     252           2278.453096\n",
       "                 62337  23404    278          20000.000000\n",
       "20 xs 80 reinst  62337  23404    278           8905.218687\n",
       "Name: Loss, Length: 56340, dtype: float64"
      ]
     },
     "execution_count": 3,
     "metadata": {},
     "output_type": "execute_result"
    }
   ],
   "source": [
    "lyr_yelts = pd.concat([lyr['layer'].yelt_loss(yelt) for lyr in layers], \n",
    "                      keys=[lyr['name'] for lyr in layers], names=['Layer'])\n",
    "lyr_yelts"
   ]
  },
  {
   "cell_type": "markdown",
   "id": "58d22277",
   "metadata": {},
   "source": [
    "### Get the AEP and OEP"
   ]
  },
  {
   "cell_type": "code",
   "execution_count": 4,
   "id": "14118c02",
   "metadata": {},
   "outputs": [
    {
     "data": {
      "text/html": [
       "<style type=\"text/css\">\n",
       "</style>\n",
       "<table id=\"T_517c6\">\n",
       "  <thead>\n",
       "    <tr>\n",
       "      <th class=\"blank level0\" >&nbsp;</th>\n",
       "      <th id=\"T_517c6_level0_col0\" class=\"col_heading level0 col0\" colspan=\"2\">Gross</th>\n",
       "      <th id=\"T_517c6_level0_col2\" class=\"col_heading level0 col2\" colspan=\"2\">Ceded</th>\n",
       "      <th id=\"T_517c6_level0_col4\" class=\"col_heading level0 col4\" colspan=\"2\">Retained</th>\n",
       "    </tr>\n",
       "    <tr>\n",
       "      <th class=\"index_name level1\" >CurveType</th>\n",
       "      <th id=\"T_517c6_level1_col0\" class=\"col_heading level1 col0\" >LossAEP</th>\n",
       "      <th id=\"T_517c6_level1_col1\" class=\"col_heading level1 col1\" >LossOEP</th>\n",
       "      <th id=\"T_517c6_level1_col2\" class=\"col_heading level1 col2\" >LossAEP</th>\n",
       "      <th id=\"T_517c6_level1_col3\" class=\"col_heading level1 col3\" >LossOEP</th>\n",
       "      <th id=\"T_517c6_level1_col4\" class=\"col_heading level1 col4\" >LossAEP</th>\n",
       "      <th id=\"T_517c6_level1_col5\" class=\"col_heading level1 col5\" >LossOEP</th>\n",
       "    </tr>\n",
       "    <tr>\n",
       "      <th class=\"index_name level0\" >ReturnPeriod</th>\n",
       "      <th class=\"blank col0\" >&nbsp;</th>\n",
       "      <th class=\"blank col1\" >&nbsp;</th>\n",
       "      <th class=\"blank col2\" >&nbsp;</th>\n",
       "      <th class=\"blank col3\" >&nbsp;</th>\n",
       "      <th class=\"blank col4\" >&nbsp;</th>\n",
       "      <th class=\"blank col5\" >&nbsp;</th>\n",
       "    </tr>\n",
       "  </thead>\n",
       "  <tbody>\n",
       "    <tr>\n",
       "      <th id=\"T_517c6_level0_row0\" class=\"row_heading level0 row0\" >500</th>\n",
       "      <td id=\"T_517c6_row0_col0\" class=\"data row0 col0\" >276,674</td>\n",
       "      <td id=\"T_517c6_row0_col1\" class=\"data row0 col1\" >272,297</td>\n",
       "      <td id=\"T_517c6_row0_col2\" class=\"data row0 col2\" >101,096</td>\n",
       "      <td id=\"T_517c6_row0_col3\" class=\"data row0 col3\" >100,000</td>\n",
       "      <td id=\"T_517c6_row0_col4\" class=\"data row0 col4\" >172,297</td>\n",
       "      <td id=\"T_517c6_row0_col5\" class=\"data row0 col5\" >172,297</td>\n",
       "    </tr>\n",
       "    <tr>\n",
       "      <th id=\"T_517c6_level0_row1\" class=\"row_heading level0 row1\" >250</th>\n",
       "      <td id=\"T_517c6_row1_col0\" class=\"data row1 col0\" >127,284</td>\n",
       "      <td id=\"T_517c6_row1_col1\" class=\"data row1 col1\" >123,967</td>\n",
       "      <td id=\"T_517c6_row1_col2\" class=\"data row1 col2\" >100,000</td>\n",
       "      <td id=\"T_517c6_row1_col3\" class=\"data row1 col3\" >100,000</td>\n",
       "      <td id=\"T_517c6_row1_col4\" class=\"data row1 col4\" >23,967</td>\n",
       "      <td id=\"T_517c6_row1_col5\" class=\"data row1 col5\" >23,967</td>\n",
       "    </tr>\n",
       "    <tr>\n",
       "      <th id=\"T_517c6_level0_row2\" class=\"row_heading level0 row2\" >200</th>\n",
       "      <td id=\"T_517c6_row2_col0\" class=\"data row2 col0\" >104,018</td>\n",
       "      <td id=\"T_517c6_row2_col1\" class=\"data row2 col1\" >101,450</td>\n",
       "      <td id=\"T_517c6_row2_col2\" class=\"data row2 col2\" >100,000</td>\n",
       "      <td id=\"T_517c6_row2_col3\" class=\"data row2 col3\" >100,000</td>\n",
       "      <td id=\"T_517c6_row2_col4\" class=\"data row2 col4\" >2,403</td>\n",
       "      <td id=\"T_517c6_row2_col5\" class=\"data row2 col5\" >2,288</td>\n",
       "    </tr>\n",
       "    <tr>\n",
       "      <th id=\"T_517c6_level0_row3\" class=\"row_heading level0 row3\" >150</th>\n",
       "      <td id=\"T_517c6_row3_col0\" class=\"data row3 col0\" >77,856</td>\n",
       "      <td id=\"T_517c6_row3_col1\" class=\"data row3 col1\" >75,848</td>\n",
       "      <td id=\"T_517c6_row3_col2\" class=\"data row3 col2\" >77,856</td>\n",
       "      <td id=\"T_517c6_row3_col3\" class=\"data row3 col3\" >75,848</td>\n",
       "      <td id=\"T_517c6_row3_col4\" class=\"data row3 col4\" >0</td>\n",
       "      <td id=\"T_517c6_row3_col5\" class=\"data row3 col5\" >0</td>\n",
       "    </tr>\n",
       "    <tr>\n",
       "      <th id=\"T_517c6_level0_row4\" class=\"row_heading level0 row4\" >100</th>\n",
       "      <td id=\"T_517c6_row4_col0\" class=\"data row4 col0\" >51,611</td>\n",
       "      <td id=\"T_517c6_row4_col1\" class=\"data row4 col1\" >49,340</td>\n",
       "      <td id=\"T_517c6_row4_col2\" class=\"data row4 col2\" >51,486</td>\n",
       "      <td id=\"T_517c6_row4_col3\" class=\"data row4 col3\" >49,340</td>\n",
       "      <td id=\"T_517c6_row4_col4\" class=\"data row4 col4\" >0</td>\n",
       "      <td id=\"T_517c6_row4_col5\" class=\"data row4 col5\" >0</td>\n",
       "    </tr>\n",
       "    <tr>\n",
       "      <th id=\"T_517c6_level0_row5\" class=\"row_heading level0 row5\" >90</th>\n",
       "      <td id=\"T_517c6_row5_col0\" class=\"data row5 col0\" >46,385</td>\n",
       "      <td id=\"T_517c6_row5_col1\" class=\"data row5 col1\" >44,302</td>\n",
       "      <td id=\"T_517c6_row5_col2\" class=\"data row5 col2\" >46,385</td>\n",
       "      <td id=\"T_517c6_row5_col3\" class=\"data row5 col3\" >44,288</td>\n",
       "      <td id=\"T_517c6_row5_col4\" class=\"data row5 col4\" >0</td>\n",
       "      <td id=\"T_517c6_row5_col5\" class=\"data row5 col5\" >0</td>\n",
       "    </tr>\n",
       "    <tr>\n",
       "      <th id=\"T_517c6_level0_row6\" class=\"row_heading level0 row6\" >80</th>\n",
       "      <td id=\"T_517c6_row6_col0\" class=\"data row6 col0\" >41,048</td>\n",
       "      <td id=\"T_517c6_row6_col1\" class=\"data row6 col1\" >38,940</td>\n",
       "      <td id=\"T_517c6_row6_col2\" class=\"data row6 col2\" >41,036</td>\n",
       "      <td id=\"T_517c6_row6_col3\" class=\"data row6 col3\" >38,927</td>\n",
       "      <td id=\"T_517c6_row6_col4\" class=\"data row6 col4\" >0</td>\n",
       "      <td id=\"T_517c6_row6_col5\" class=\"data row6 col5\" >0</td>\n",
       "    </tr>\n",
       "    <tr>\n",
       "      <th id=\"T_517c6_level0_row7\" class=\"row_heading level0 row7\" >70</th>\n",
       "      <td id=\"T_517c6_row7_col0\" class=\"data row7 col0\" >35,720</td>\n",
       "      <td id=\"T_517c6_row7_col1\" class=\"data row7 col1\" >33,490</td>\n",
       "      <td id=\"T_517c6_row7_col2\" class=\"data row7 col2\" >35,720</td>\n",
       "      <td id=\"T_517c6_row7_col3\" class=\"data row7 col3\" >33,490</td>\n",
       "      <td id=\"T_517c6_row7_col4\" class=\"data row7 col4\" >0</td>\n",
       "      <td id=\"T_517c6_row7_col5\" class=\"data row7 col5\" >0</td>\n",
       "    </tr>\n",
       "    <tr>\n",
       "      <th id=\"T_517c6_level0_row8\" class=\"row_heading level0 row8\" >60</th>\n",
       "      <td id=\"T_517c6_row8_col0\" class=\"data row8 col0\" >30,614</td>\n",
       "      <td id=\"T_517c6_row8_col1\" class=\"data row8 col1\" >28,689</td>\n",
       "      <td id=\"T_517c6_row8_col2\" class=\"data row8 col2\" >30,614</td>\n",
       "      <td id=\"T_517c6_row8_col3\" class=\"data row8 col3\" >28,689</td>\n",
       "      <td id=\"T_517c6_row8_col4\" class=\"data row8 col4\" >0</td>\n",
       "      <td id=\"T_517c6_row8_col5\" class=\"data row8 col5\" >0</td>\n",
       "    </tr>\n",
       "    <tr>\n",
       "      <th id=\"T_517c6_level0_row9\" class=\"row_heading level0 row9\" >50</th>\n",
       "      <td id=\"T_517c6_row9_col0\" class=\"data row9 col0\" >25,875</td>\n",
       "      <td id=\"T_517c6_row9_col1\" class=\"data row9 col1\" >24,074</td>\n",
       "      <td id=\"T_517c6_row9_col2\" class=\"data row9 col2\" >25,875</td>\n",
       "      <td id=\"T_517c6_row9_col3\" class=\"data row9 col3\" >24,074</td>\n",
       "      <td id=\"T_517c6_row9_col4\" class=\"data row9 col4\" >0</td>\n",
       "      <td id=\"T_517c6_row9_col5\" class=\"data row9 col5\" >0</td>\n",
       "    </tr>\n",
       "    <tr>\n",
       "      <th id=\"T_517c6_level0_row10\" class=\"row_heading level0 row10\" >40</th>\n",
       "      <td id=\"T_517c6_row10_col0\" class=\"data row10 col0\" >21,115</td>\n",
       "      <td id=\"T_517c6_row10_col1\" class=\"data row10 col1\" >19,399</td>\n",
       "      <td id=\"T_517c6_row10_col2\" class=\"data row10 col2\" >21,115</td>\n",
       "      <td id=\"T_517c6_row10_col3\" class=\"data row10 col3\" >19,399</td>\n",
       "      <td id=\"T_517c6_row10_col4\" class=\"data row10 col4\" >0</td>\n",
       "      <td id=\"T_517c6_row10_col5\" class=\"data row10 col5\" >0</td>\n",
       "    </tr>\n",
       "    <tr>\n",
       "      <th id=\"T_517c6_level0_row11\" class=\"row_heading level0 row11\" >30</th>\n",
       "      <td id=\"T_517c6_row11_col0\" class=\"data row11 col0\" >16,095</td>\n",
       "      <td id=\"T_517c6_row11_col1\" class=\"data row11 col1\" >14,597</td>\n",
       "      <td id=\"T_517c6_row11_col2\" class=\"data row11 col2\" >16,095</td>\n",
       "      <td id=\"T_517c6_row11_col3\" class=\"data row11 col3\" >14,597</td>\n",
       "      <td id=\"T_517c6_row11_col4\" class=\"data row11 col4\" >0</td>\n",
       "      <td id=\"T_517c6_row11_col5\" class=\"data row11 col5\" >0</td>\n",
       "    </tr>\n",
       "    <tr>\n",
       "      <th id=\"T_517c6_level0_row12\" class=\"row_heading level0 row12\" >20</th>\n",
       "      <td id=\"T_517c6_row12_col0\" class=\"data row12 col0\" >10,961</td>\n",
       "      <td id=\"T_517c6_row12_col1\" class=\"data row12 col1\" >9,648</td>\n",
       "      <td id=\"T_517c6_row12_col2\" class=\"data row12 col2\" >10,961</td>\n",
       "      <td id=\"T_517c6_row12_col3\" class=\"data row12 col3\" >9,648</td>\n",
       "      <td id=\"T_517c6_row12_col4\" class=\"data row12 col4\" >0</td>\n",
       "      <td id=\"T_517c6_row12_col5\" class=\"data row12 col5\" >0</td>\n",
       "    </tr>\n",
       "    <tr>\n",
       "      <th id=\"T_517c6_level0_row13\" class=\"row_heading level0 row13\" >10</th>\n",
       "      <td id=\"T_517c6_row13_col0\" class=\"data row13 col0\" >5,539</td>\n",
       "      <td id=\"T_517c6_row13_col1\" class=\"data row13 col1\" >4,708</td>\n",
       "      <td id=\"T_517c6_row13_col2\" class=\"data row13 col2\" >5,539</td>\n",
       "      <td id=\"T_517c6_row13_col3\" class=\"data row13 col3\" >4,708</td>\n",
       "      <td id=\"T_517c6_row13_col4\" class=\"data row13 col4\" >0</td>\n",
       "      <td id=\"T_517c6_row13_col5\" class=\"data row13 col5\" >0</td>\n",
       "    </tr>\n",
       "  </tbody>\n",
       "</table>\n"
      ],
      "text/plain": [
       "<pandas.io.formats.style.Styler at 0x733f9d1e38e0>"
      ]
     },
     "execution_count": 4,
     "metadata": {},
     "output_type": "execute_result"
    }
   ],
   "source": [
    "ceded_yelt = lyr_yelts.groupby(yelt.index.names).sum()\n",
    "retained_yelt = yelt.subtract(ceded_yelt, fill_value=0.0)\n",
    "\n",
    "return_periods = [500, 250, 200, 150, 100, 90, 80, 70, 60, 50, 40, 30, 20, 10]\n",
    "ep0 = yelt.yel.to_ep_summaries(return_periods)\n",
    "ep1 = ceded_yelt.yel.to_ep_summaries(return_periods)\n",
    "ep2 = retained_yelt.yel.to_ep_summaries(return_periods)\n",
    "\n",
    "pd.concat([ep0, ep1, ep2], axis=1, keys=['Gross', 'Ceded', 'Retained']).style.format(\"{:,.0f}\")"
   ]
  },
  {
   "cell_type": "markdown",
   "id": "abbfcdf2",
   "metadata": {},
   "source": [
    "### Get the AAL per layer"
   ]
  },
  {
   "cell_type": "code",
   "execution_count": 5,
   "id": "439d82e1",
   "metadata": {},
   "outputs": [
    {
     "name": "stdout",
     "output_type": "stream",
     "text": [
      "             20 xs 0: 1,934\n",
      "      20 xs 0 reinst: 49\n",
      "            20 xs 20: 334\n",
      "     20 xs 20 reinst: 2\n",
      "            20 xs 40: 200\n",
      "     20 xs 40 reinst: 1\n",
      "            20 xs 60: 144\n",
      "     20 xs 60 reinst: 0\n",
      "            20 xs 80: 114\n",
      "     20 xs 80 reinst: 0\n",
      "            Retained: 2,785\n"
     ]
    }
   ],
   "source": [
    "for lyr_name, grp in lyr_yelts.groupby('Layer'):\n",
    "    print(f\"{lyr_name:>20}: {grp.yel.aal:,.0f}\")\n",
    "\n",
    "print(f\"{'Retained':>20s}: {retained_yelt.yel.aal:,.0f}\")"
   ]
  }
 ],
 "metadata": {
  "interpreter": {
   "hash": "47fdc3760ace9dedd6181b3c9679187d644739cae698f056878f8d888561f103"
  },
  "kernelspec": {
   "display_name": "Python 3.10.6 ('venv': venv)",
   "language": "python",
   "name": "python3"
  },
  "language_info": {
   "codemirror_mode": {
    "name": "ipython",
    "version": 3
   },
   "file_extension": ".py",
   "mimetype": "text/x-python",
   "name": "python",
   "nbconvert_exporter": "python",
   "pygments_lexer": "ipython3",
   "version": "3.10.12"
  }
 },
 "nbformat": 4,
 "nbformat_minor": 5
}
