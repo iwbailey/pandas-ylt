{
 "cells": [
  {
   "cell_type": "markdown",
   "id": "precious-dealing",
   "metadata": {},
   "source": [
    "pandas-ylt\n",
    "==========\n",
    "\n",
    "Python modules for working in pandas with various loss data tables used for CAT modelling\n"
   ]
  },
  {
   "cell_type": "markdown",
   "id": "ea25deed",
   "metadata": {},
   "source": [
    "### Read the example YLT"
   ]
  },
  {
   "cell_type": "code",
   "execution_count": 1,
   "id": "50850bb5",
   "metadata": {},
   "outputs": [
    {
     "data": {
      "text/html": [
       "<style type=\"text/css\">\n",
       "</style>\n",
       "<table id=\"T_594f4\">\n",
       "  <thead>\n",
       "    <tr>\n",
       "      <th class=\"index_name level0\" >CurveType</th>\n",
       "      <th id=\"T_594f4_level0_col0\" class=\"col_heading level0 col0\" >LossAEP</th>\n",
       "      <th id=\"T_594f4_level0_col1\" class=\"col_heading level0 col1\" >LossOEP</th>\n",
       "    </tr>\n",
       "    <tr>\n",
       "      <th class=\"index_name level0\" >ReturnPeriod</th>\n",
       "      <th class=\"blank col0\" >&nbsp;</th>\n",
       "      <th class=\"blank col1\" >&nbsp;</th>\n",
       "    </tr>\n",
       "  </thead>\n",
       "  <tbody>\n",
       "    <tr>\n",
       "      <th id=\"T_594f4_level0_row0\" class=\"row_heading level0 row0\" >200</th>\n",
       "      <td id=\"T_594f4_row0_col0\" class=\"data row0 col0\" >104,018</td>\n",
       "      <td id=\"T_594f4_row0_col1\" class=\"data row0 col1\" >101,450</td>\n",
       "    </tr>\n",
       "    <tr>\n",
       "      <th id=\"T_594f4_level0_row1\" class=\"row_heading level0 row1\" >100</th>\n",
       "      <td id=\"T_594f4_row1_col0\" class=\"data row1 col0\" >51,611</td>\n",
       "      <td id=\"T_594f4_row1_col1\" class=\"data row1 col1\" >49,340</td>\n",
       "    </tr>\n",
       "    <tr>\n",
       "      <th id=\"T_594f4_level0_row2\" class=\"row_heading level0 row2\" >10</th>\n",
       "      <td id=\"T_594f4_row2_col0\" class=\"data row2 col0\" >5,539</td>\n",
       "      <td id=\"T_594f4_row2_col1\" class=\"data row2 col1\" >4,708</td>\n",
       "    </tr>\n",
       "  </tbody>\n",
       "</table>\n"
      ],
      "text/plain": [
       "<pandas.io.formats.style.Styler at 0x719494087f70>"
      ]
     },
     "metadata": {},
     "output_type": "display_data"
    },
    {
     "data": {
      "text/html": [
       "<div>\n",
       "<style scoped>\n",
       "    .dataframe tbody tr th:only-of-type {\n",
       "        vertical-align: middle;\n",
       "    }\n",
       "\n",
       "    .dataframe tbody tr th {\n",
       "        vertical-align: top;\n",
       "    }\n",
       "\n",
       "    .dataframe thead th {\n",
       "        text-align: right;\n",
       "    }\n",
       "</style>\n",
       "<table border=\"1\" class=\"dataframe\">\n",
       "  <thead>\n",
       "    <tr style=\"text-align: right;\">\n",
       "      <th></th>\n",
       "      <th></th>\n",
       "    </tr>\n",
       "  </thead>\n",
       "  <tbody>\n",
       "    <tr>\n",
       "      <th>AAL</th>\n",
       "      <td>5563.829298</td>\n",
       "    </tr>\n",
       "    <tr>\n",
       "      <th>STD</th>\n",
       "      <td>158881.066882</td>\n",
       "    </tr>\n",
       "  </tbody>\n",
       "</table>\n",
       "</div>"
      ],
      "text/plain": [
       "                  \n",
       "AAL    5563.829298\n",
       "STD  158881.066882"
      ]
     },
     "metadata": {},
     "output_type": "display_data"
    }
   ],
   "source": [
    "import pandas as pd\n",
    "from pandas_ylt.yeareventloss import YearEventLossTable\n",
    "\n",
    "yelt = pd.read_csv(\"tests/_data/example_pareto_poisson_yelt.csv\",\n",
    "                    index_col=['Year', 'EventID', 'DayOfYear'])\n",
    "\n",
    "yelt = YearEventLossTable(yelt['Loss'], n_yrs=1e5)\n",
    "display(yelt.to_ep_summaries([200, 100, 10]).style.format(\"{:,.0f}\"))\n",
    "display(yelt.to_aal_series().to_frame())"
   ]
  },
  {
   "cell_type": "markdown",
   "id": "d8ebd10d",
   "metadata": {},
   "source": [
    "### Define some layers"
   ]
  },
  {
   "cell_type": "code",
   "execution_count": 2,
   "id": "6aee07c8",
   "metadata": {},
   "outputs": [],
   "source": [
    "# Define the layers\n",
    "from pandas_ylt.layer import Layer\n",
    "\n",
    "\n",
    "layers = [\n",
    "    # First loss\n",
    "    {'name': '20 xs 20', 'layer': Layer(**{'limit': 20000, 'xs': 20000, 'agg_limit': 2000.0})},\n",
    "    {'name': '20 xs 40', 'layer': Layer(**{'limit': 20000, 'xs': 40000, 'agg_limit': 2000.0})},\n",
    "    {'name': '20 xs 60', 'layer': Layer(**{'limit': 20000, 'xs': 60000, 'agg_limit': 2000.0})},    \n",
    "    {'name': '20 xs 80', 'layer': Layer(**{'limit': 20000, 'xs': 80000, 'agg_limit': 2000.0})},    \n",
    "    # Second loss\n",
    "    {'name': '20 xs 20 reinst', 'layer': Layer(**{'limit': 20000, 'xs': 20000, 'agg_limit': 2000.0, 'agg_xs': 2000.0})},\n",
    "    {'name': '20 xs 40 reinst', 'layer': Layer(**{'limit': 20000, 'xs': 40000, 'agg_limit': 2000.0, 'agg_xs': 2000.0})},\n",
    "    {'name': '20 xs 60 reinst', 'layer': Layer(**{'limit': 20000, 'xs': 60000, 'agg_limit': 2000.0, 'agg_xs': 2000.0})}, \n",
    "    {'name': '20 xs 80 reinst', 'layer': Layer(**{'limit': 20000, 'xs': 80000, 'agg_limit': 2000.0, 'agg_xs': 2000.0})}, \n",
    "]\n",
    "\n"
   ]
  },
  {
   "cell_type": "markdown",
   "id": "cc3b48f2",
   "metadata": {},
   "source": [
    "### Calculate the layer loss"
   ]
  },
  {
   "cell_type": "code",
   "execution_count": 3,
   "id": "23a3a07b",
   "metadata": {},
   "outputs": [
    {
     "data": {
      "text/plain": [
       "Year   EventID  DayOfYear\n",
       "2544   40245    181          2000.000000\n",
       "       29031    206             0.000000\n",
       "58731  19326    168           283.758114\n",
       "       17349    227          1716.241886\n",
       "99929  2111     314          1459.418871\n",
       "Name: Loss, dtype: float64"
      ]
     },
     "execution_count": 3,
     "metadata": {},
     "output_type": "execute_result"
    }
   ],
   "source": [
    "# lyr_loss = layers[4]['layer'].yelt_loss(yelt)\n",
    "lyr_loss = layers[0]['layer'].yelt_loss(yelt)\n",
    "lyr_loss.sort_index()\n",
    "\n",
    "lyr_loss.loc[[2544, 58731, 99929]]\n",
    "# lyr_loss.loc[[58731]]\n",
    "# lyr_loss.loc[lyr_loss.AggLoss > 0].join(tmp, rsuffix='tmp')\n",
    "# occ_loss.loc[occ_loss > 0]"
   ]
  }
 ],
 "metadata": {
  "interpreter": {
   "hash": "47fdc3760ace9dedd6181b3c9679187d644739cae698f056878f8d888561f103"
  },
  "kernelspec": {
   "display_name": "Python 3.10.6 ('venv': venv)",
   "language": "python",
   "name": "python3"
  },
  "language_info": {
   "codemirror_mode": {
    "name": "ipython",
    "version": 3
   },
   "file_extension": ".py",
   "mimetype": "text/x-python",
   "name": "python",
   "nbconvert_exporter": "python",
   "pygments_lexer": "ipython3",
   "version": "3.10.12"
  }
 },
 "nbformat": 4,
 "nbformat_minor": 5
}
