{
 "cells": [
  {
   "cell_type": "markdown",
   "metadata": {},
   "source": [
    "How to apply loadings based on the event size"
   ]
  },
  {
   "cell_type": "code",
   "execution_count": 18,
   "metadata": {},
   "outputs": [
    {
     "data": {
      "text/html": [
       "<style type=\"text/css\">\n",
       "</style>\n",
       "<table id=\"T_670b1\">\n",
       "  <thead>\n",
       "    <tr>\n",
       "      <th class=\"blank\" >&nbsp;</th>\n",
       "      <th class=\"blank level0\" >&nbsp;</th>\n",
       "      <th id=\"T_670b1_level0_col0\" class=\"col_heading level0 col0\" >Loss</th>\n",
       "    </tr>\n",
       "    <tr>\n",
       "      <th class=\"index_name level0\" >Metric</th>\n",
       "      <th class=\"index_name level1\" >ReturnPeriod</th>\n",
       "      <th class=\"blank col0\" >&nbsp;</th>\n",
       "    </tr>\n",
       "  </thead>\n",
       "  <tbody>\n",
       "    <tr>\n",
       "      <th id=\"T_670b1_level0_row0\" class=\"row_heading level0 row0\" rowspan=\"4\">AEP</th>\n",
       "      <th id=\"T_670b1_level1_row0\" class=\"row_heading level1 row0\" >1000</th>\n",
       "      <td id=\"T_670b1_row0_col0\" class=\"data row0 col0\" >494,221</td>\n",
       "    </tr>\n",
       "    <tr>\n",
       "      <th id=\"T_670b1_level1_row1\" class=\"row_heading level1 row1\" >200</th>\n",
       "      <td id=\"T_670b1_row1_col0\" class=\"data row1 col0\" >104,018</td>\n",
       "    </tr>\n",
       "    <tr>\n",
       "      <th id=\"T_670b1_level1_row2\" class=\"row_heading level1 row2\" >100</th>\n",
       "      <td id=\"T_670b1_row2_col0\" class=\"data row2 col0\" >51,611</td>\n",
       "    </tr>\n",
       "    <tr>\n",
       "      <th id=\"T_670b1_level1_row3\" class=\"row_heading level1 row3\" >10</th>\n",
       "      <td id=\"T_670b1_row3_col0\" class=\"data row3 col0\" >5,539</td>\n",
       "    </tr>\n",
       "    <tr>\n",
       "      <th id=\"T_670b1_level0_row4\" class=\"row_heading level0 row4\" rowspan=\"4\">OEP</th>\n",
       "      <th id=\"T_670b1_level1_row4\" class=\"row_heading level1 row4\" >1000</th>\n",
       "      <td id=\"T_670b1_row4_col0\" class=\"data row4 col0\" >494,221</td>\n",
       "    </tr>\n",
       "    <tr>\n",
       "      <th id=\"T_670b1_level1_row5\" class=\"row_heading level1 row5\" >200</th>\n",
       "      <td id=\"T_670b1_row5_col0\" class=\"data row5 col0\" >101,450</td>\n",
       "    </tr>\n",
       "    <tr>\n",
       "      <th id=\"T_670b1_level1_row6\" class=\"row_heading level1 row6\" >100</th>\n",
       "      <td id=\"T_670b1_row6_col0\" class=\"data row6 col0\" >49,340</td>\n",
       "    </tr>\n",
       "    <tr>\n",
       "      <th id=\"T_670b1_level1_row7\" class=\"row_heading level1 row7\" >10</th>\n",
       "      <td id=\"T_670b1_row7_col0\" class=\"data row7 col0\" >4,708</td>\n",
       "    </tr>\n",
       "  </tbody>\n",
       "</table>\n"
      ],
      "text/plain": [
       "<pandas.io.formats.style.Styler at 0x72290c540100>"
      ]
     },
     "metadata": {},
     "output_type": "display_data"
    },
    {
     "data": {
      "text/html": [
       "<style type=\"text/css\">\n",
       "</style>\n",
       "<table id=\"T_1cf93\">\n",
       "  <thead>\n",
       "    <tr>\n",
       "      <th class=\"blank level0\" >&nbsp;</th>\n",
       "      <th id=\"T_1cf93_level0_col0\" class=\"col_heading level0 col0\" >Loss</th>\n",
       "    </tr>\n",
       "    <tr>\n",
       "      <th class=\"index_name level0\" >Metric</th>\n",
       "      <th class=\"blank col0\" >&nbsp;</th>\n",
       "    </tr>\n",
       "  </thead>\n",
       "  <tbody>\n",
       "    <tr>\n",
       "      <th id=\"T_1cf93_level0_row0\" class=\"row_heading level0 row0\" >AAL</th>\n",
       "      <td id=\"T_1cf93_row0_col0\" class=\"data row0 col0\" >5,564</td>\n",
       "    </tr>\n",
       "    <tr>\n",
       "      <th id=\"T_1cf93_level0_row1\" class=\"row_heading level0 row1\" >STD</th>\n",
       "      <td id=\"T_1cf93_row1_col0\" class=\"data row1 col0\" >158,881</td>\n",
       "    </tr>\n",
       "  </tbody>\n",
       "</table>\n"
      ],
      "text/plain": [
       "<pandas.io.formats.style.Styler at 0x72290c541420>"
      ]
     },
     "metadata": {},
     "output_type": "display_data"
    }
   ],
   "source": [
    "import warnings\n",
    "import matplotlib.pyplot as plt\n",
    "import numpy as np\n",
    "import pandas as pd\n",
    "import pandas_ylt\n",
    "\n",
    "yelt = pd.read_csv(\"tests/_data/example_pareto_poisson_yelt.csv\",\n",
    "                    index_col=['Year', 'EventID', 'DayOfYear'])['Loss']\n",
    "yelt.attrs['n_yrs'] = 1e5\n",
    "\n",
    "display(yelt.yel.to_rp_summaries([1000, 200, 100, 10], is_ef=False).to_frame().style.format(\"{:,.0f}\"))\n",
    "display(yelt.yel.to_summary_stats_series().to_frame().style.format(\"{:,.0f}\"))"
   ]
  },
  {
   "cell_type": "code",
   "execution_count": 19,
   "metadata": {},
   "outputs": [
    {
     "name": "stderr",
     "output_type": "stream",
     "text": [
      "/tmp/ipykernel_6829/1360940285.py:10: UserWarning: The order of events will not be preserved\n",
      "  warnings.warn('The order of events will not be preserved')\n"
     ]
    },
    {
     "data": {
      "text/html": [
       "<div>\n",
       "<style scoped>\n",
       "    .dataframe tbody tr th:only-of-type {\n",
       "        vertical-align: middle;\n",
       "    }\n",
       "\n",
       "    .dataframe tbody tr th {\n",
       "        vertical-align: top;\n",
       "    }\n",
       "\n",
       "    .dataframe thead th {\n",
       "        text-align: right;\n",
       "    }\n",
       "</style>\n",
       "<table border=\"1\" class=\"dataframe\">\n",
       "  <thead>\n",
       "    <tr style=\"text-align: right;\">\n",
       "      <th></th>\n",
       "      <th>Loss</th>\n",
       "      <th>ExProb</th>\n",
       "      <th>RP</th>\n",
       "      <th>loading</th>\n",
       "    </tr>\n",
       "    <tr>\n",
       "      <th>Order</th>\n",
       "      <th></th>\n",
       "      <th></th>\n",
       "      <th></th>\n",
       "      <th></th>\n",
       "    </tr>\n",
       "  </thead>\n",
       "  <tbody>\n",
       "    <tr>\n",
       "      <th>0</th>\n",
       "      <td>3.628133e+07</td>\n",
       "      <td>0.00001</td>\n",
       "      <td>100000.000000</td>\n",
       "      <td>1.0</td>\n",
       "    </tr>\n",
       "    <tr>\n",
       "      <th>1</th>\n",
       "      <td>1.663761e+07</td>\n",
       "      <td>0.00002</td>\n",
       "      <td>50000.000000</td>\n",
       "      <td>1.0</td>\n",
       "    </tr>\n",
       "    <tr>\n",
       "      <th>2</th>\n",
       "      <td>1.205647e+07</td>\n",
       "      <td>0.00003</td>\n",
       "      <td>33333.333333</td>\n",
       "      <td>1.0</td>\n",
       "    </tr>\n",
       "    <tr>\n",
       "      <th>3</th>\n",
       "      <td>1.079823e+07</td>\n",
       "      <td>0.00004</td>\n",
       "      <td>25000.000000</td>\n",
       "      <td>1.0</td>\n",
       "    </tr>\n",
       "    <tr>\n",
       "      <th>4</th>\n",
       "      <td>9.848174e+06</td>\n",
       "      <td>0.00005</td>\n",
       "      <td>20000.000000</td>\n",
       "      <td>1.0</td>\n",
       "    </tr>\n",
       "    <tr>\n",
       "      <th>...</th>\n",
       "      <td>...</td>\n",
       "      <td>...</td>\n",
       "      <td>...</td>\n",
       "      <td>...</td>\n",
       "    </tr>\n",
       "    <tr>\n",
       "      <th>39242</th>\n",
       "      <td>1.000114e+03</td>\n",
       "      <td>0.39243</td>\n",
       "      <td>2.548225</td>\n",
       "      <td>0.8</td>\n",
       "    </tr>\n",
       "    <tr>\n",
       "      <th>39243</th>\n",
       "      <td>1.000091e+03</td>\n",
       "      <td>0.39244</td>\n",
       "      <td>2.548160</td>\n",
       "      <td>0.8</td>\n",
       "    </tr>\n",
       "    <tr>\n",
       "      <th>39244</th>\n",
       "      <td>1.000085e+03</td>\n",
       "      <td>0.39245</td>\n",
       "      <td>2.548095</td>\n",
       "      <td>0.8</td>\n",
       "    </tr>\n",
       "    <tr>\n",
       "      <th>39245</th>\n",
       "      <td>1.000065e+03</td>\n",
       "      <td>0.39246</td>\n",
       "      <td>2.548030</td>\n",
       "      <td>0.8</td>\n",
       "    </tr>\n",
       "    <tr>\n",
       "      <th>39246</th>\n",
       "      <td>0.000000e+00</td>\n",
       "      <td>1.00000</td>\n",
       "      <td>1.000000</td>\n",
       "      <td>0.8</td>\n",
       "    </tr>\n",
       "  </tbody>\n",
       "</table>\n",
       "<p>39247 rows × 4 columns</p>\n",
       "</div>"
      ],
      "text/plain": [
       "               Loss   ExProb             RP  loading\n",
       "Order                                               \n",
       "0      3.628133e+07  0.00001  100000.000000      1.0\n",
       "1      1.663761e+07  0.00002   50000.000000      1.0\n",
       "2      1.205647e+07  0.00003   33333.333333      1.0\n",
       "3      1.079823e+07  0.00004   25000.000000      1.0\n",
       "4      9.848174e+06  0.00005   20000.000000      1.0\n",
       "...             ...      ...            ...      ...\n",
       "39242  1.000114e+03  0.39243       2.548225      0.8\n",
       "39243  1.000091e+03  0.39244       2.548160      0.8\n",
       "39244  1.000085e+03  0.39245       2.548095      0.8\n",
       "39245  1.000065e+03  0.39246       2.548030      0.8\n",
       "39246  0.000000e+00  1.00000       1.000000      0.8\n",
       "\n",
       "[39247 rows x 4 columns]"
      ]
     },
     "execution_count": 19,
     "metadata": {},
     "output_type": "execute_result"
    }
   ],
   "source": [
    "# Specify loading factors based on OEP return period\n",
    "rp_loadings = np.array([(5, 0.8), (10, 0.9), (50, 1.0), (100, 1.1), (200, 1.0)])\n",
    "\n",
    "# Map the loading factors into loss using interpolation on return period\n",
    "oep_curve = yelt.yel.to_ylt(is_occurrence=True).yl.to_ep_curve()\n",
    "oep_curve['RP'] = 1 / oep_curve['ExProb']\n",
    "oep_curve['loading'] = np.interp(oep_curve['RP'], rp_loadings[:,0], rp_loadings[:,1])\n",
    "\n",
    "if not (oep_curve['Loss'] * oep_curve['loading']).is_monotonic_decreasing:\n",
    "    warnings.warn('The order of events will not be preserved')\n",
    "\n",
    "oep_curve\n"
   ]
  },
  {
   "cell_type": "code",
   "execution_count": 33,
   "metadata": {},
   "outputs": [
    {
     "data": {
      "text/plain": [
       "Year   EventID  DayOfYear\n",
       "35617  26476    233          8.000520e+02\n",
       "37523  37685    105          8.000681e+02\n",
       "32213  17253    232          8.000727e+02\n",
       "50809  38489    5            8.000913e+02\n",
       "5440   12820    85           8.001261e+02\n",
       "                                 ...     \n",
       "51369  29355    224          9.848174e+06\n",
       "10432  28920    362          1.079823e+07\n",
       "54662  3586     186          1.205647e+07\n",
       "79142  11708    90           1.663761e+07\n",
       "22644  43737    354          3.628133e+07\n",
       "Name: Loss, Length: 49812, dtype: float64"
      ]
     },
     "execution_count": 33,
     "metadata": {},
     "output_type": "execute_result"
    }
   ],
   "source": [
    "# Apply to the ylt\n",
    "oep_curve = oep_curve.sort_values('Loss')\n",
    "\n",
    "yelt_loaded = yelt.copy().sort_values()\n",
    "yelt_loaded = yelt_loaded * np.interp(yelt_loaded, oep_curve.Loss, oep_curve.loading)\n",
    "yelt_loaded"
   ]
  },
  {
   "cell_type": "code",
   "execution_count": 34,
   "metadata": {},
   "outputs": [
    {
     "data": {
      "text/html": [
       "<style type=\"text/css\">\n",
       "</style>\n",
       "<table id=\"T_c98b3\">\n",
       "  <thead>\n",
       "    <tr>\n",
       "      <th class=\"blank\" >&nbsp;</th>\n",
       "      <th class=\"blank level0\" >&nbsp;</th>\n",
       "      <th id=\"T_c98b3_level0_col0\" class=\"col_heading level0 col0\" >Loss</th>\n",
       "    </tr>\n",
       "    <tr>\n",
       "      <th class=\"index_name level0\" >Metric</th>\n",
       "      <th class=\"index_name level1\" >ReturnPeriod</th>\n",
       "      <th class=\"blank col0\" >&nbsp;</th>\n",
       "    </tr>\n",
       "  </thead>\n",
       "  <tbody>\n",
       "    <tr>\n",
       "      <th id=\"T_c98b3_level0_row0\" class=\"row_heading level0 row0\" rowspan=\"4\">AEP</th>\n",
       "      <th id=\"T_c98b3_level1_row0\" class=\"row_heading level1 row0\" >1000</th>\n",
       "      <td id=\"T_c98b3_row0_col0\" class=\"data row0 col0\" >494,221</td>\n",
       "    </tr>\n",
       "    <tr>\n",
       "      <th id=\"T_c98b3_level1_row1\" class=\"row_heading level1 row1\" >200</th>\n",
       "      <td id=\"T_c98b3_row1_col0\" class=\"data row1 col0\" >104,311</td>\n",
       "    </tr>\n",
       "    <tr>\n",
       "      <th id=\"T_c98b3_level1_row2\" class=\"row_heading level1 row2\" >100</th>\n",
       "      <td id=\"T_c98b3_row2_col0\" class=\"data row2 col0\" >55,953</td>\n",
       "    </tr>\n",
       "    <tr>\n",
       "      <th id=\"T_c98b3_level1_row3\" class=\"row_heading level1 row3\" >10</th>\n",
       "      <td id=\"T_c98b3_row3_col0\" class=\"data row3 col0\" >4,858</td>\n",
       "    </tr>\n",
       "    <tr>\n",
       "      <th id=\"T_c98b3_level0_row4\" class=\"row_heading level0 row4\" rowspan=\"4\">OEP</th>\n",
       "      <th id=\"T_c98b3_level1_row4\" class=\"row_heading level1 row4\" >1000</th>\n",
       "      <td id=\"T_c98b3_row4_col0\" class=\"data row4 col0\" >494,221</td>\n",
       "    </tr>\n",
       "    <tr>\n",
       "      <th id=\"T_c98b3_level1_row5\" class=\"row_heading level1 row5\" >200</th>\n",
       "      <td id=\"T_c98b3_row5_col0\" class=\"data row5 col0\" >101,450</td>\n",
       "    </tr>\n",
       "    <tr>\n",
       "      <th id=\"T_c98b3_level1_row6\" class=\"row_heading level1 row6\" >100</th>\n",
       "      <td id=\"T_c98b3_row6_col0\" class=\"data row6 col0\" >54,274</td>\n",
       "    </tr>\n",
       "    <tr>\n",
       "      <th id=\"T_c98b3_level1_row7\" class=\"row_heading level1 row7\" >10</th>\n",
       "      <td id=\"T_c98b3_row7_col0\" class=\"data row7 col0\" >4,237</td>\n",
       "    </tr>\n",
       "  </tbody>\n",
       "</table>\n"
      ],
      "text/plain": [
       "<pandas.io.formats.style.Styler at 0x72290a8efbe0>"
      ]
     },
     "metadata": {},
     "output_type": "display_data"
    },
    {
     "data": {
      "text/html": [
       "<style type=\"text/css\">\n",
       "</style>\n",
       "<table id=\"T_ec6a7\">\n",
       "  <thead>\n",
       "    <tr>\n",
       "      <th class=\"blank level0\" >&nbsp;</th>\n",
       "      <th id=\"T_ec6a7_level0_col0\" class=\"col_heading level0 col0\" >Loss</th>\n",
       "    </tr>\n",
       "    <tr>\n",
       "      <th class=\"index_name level0\" >Metric</th>\n",
       "      <th class=\"blank col0\" >&nbsp;</th>\n",
       "    </tr>\n",
       "  </thead>\n",
       "  <tbody>\n",
       "    <tr>\n",
       "      <th id=\"T_ec6a7_level0_row0\" class=\"row_heading level0 row0\" >AAL</th>\n",
       "      <td id=\"T_ec6a7_row0_col0\" class=\"data row0 col0\" >5,409</td>\n",
       "    </tr>\n",
       "    <tr>\n",
       "      <th id=\"T_ec6a7_level0_row1\" class=\"row_heading level0 row1\" >STD</th>\n",
       "      <td id=\"T_ec6a7_row1_col0\" class=\"data row1 col0\" >158,889</td>\n",
       "    </tr>\n",
       "  </tbody>\n",
       "</table>\n"
      ],
      "text/plain": [
       "<pandas.io.formats.style.Styler at 0x72290a8efcd0>"
      ]
     },
     "metadata": {},
     "output_type": "display_data"
    }
   ],
   "source": [
    "\n",
    "display(yelt_loaded.yel.to_rp_summaries([1000, 200, 100, 10], is_ef=False).to_frame().style.format(\"{:,.0f}\"))\n",
    "display(yelt_loaded.yel.to_summary_stats_series().to_frame().style.format(\"{:,.0f}\"))"
   ]
  },
  {
   "cell_type": "code",
   "execution_count": 24,
   "metadata": {},
   "outputs": [
    {
     "data": {
      "image/png": "[encoded data removed]",
      "text/plain": [
       "<Figure size 640x480 with 1 Axes>"
      ]
     },
     "metadata": {},
     "output_type": "display_data"
    }
   ],
   "source": [
    "# Make a plot\n",
    "fig, ax = plt.subplots(1)\n",
    "\n",
    "ax.plot(oep_curve.RP, oep_curve.Loss)\n",
    "ax.plot(oep_curve.RP, oep_curve.Loss * oep_curve.loading)\n",
    "\n",
    "ax.set(xlim=[0, 250], ylim=[0, 2e5])\n",
    "plt.grid()\n",
    "plt.show()\n"
   ]
  }
 ],
 "metadata": {
  "kernelspec": {
   "display_name": "venv",
   "language": "python",
   "name": "python3"
  },
  "language_info": {
   "codemirror_mode": {
    "name": "ipython",
    "version": 3
   },
   "file_extension": ".py",
   "mimetype": "text/x-python",
   "name": "python",
   "nbconvert_exporter": "python",
   "pygments_lexer": "ipython3",
   "version": "3.10.12"
  }
 },
 "nbformat": 4,
 "nbformat_minor": 2
}
